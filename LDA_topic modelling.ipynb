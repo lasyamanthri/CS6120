{
 "cells": [
  {
   "cell_type": "code",
   "execution_count": 1,
   "id": "a4f82565",
   "metadata": {},
   "outputs": [],
   "source": [
    "import numpy as np\n",
    "import pandas as pd\n",
    "import re, nltk, spacy, gensim\n",
    "\n",
    "# Sklearn\n",
    "from sklearn.decomposition import LatentDirichletAllocation, TruncatedSVD\n",
    "from sklearn.feature_extraction.text import CountVectorizer, TfidfVectorizer\n",
    "from sklearn.model_selection import GridSearchCV\n",
    "from pprint import pprint\n",
    "\n",
    "import pyLDAvis\n",
    "import pyLDAvis.sklearn\n",
    "import matplotlib.pyplot as plt\n",
    "%matplotlib inline\n",
    "\n",
    "seed = 100"
   ]
  },
  {
   "cell_type": "code",
   "execution_count": 2,
   "id": "014ff743",
   "metadata": {},
   "outputs": [],
   "source": [
    "df = pd.read_csv('bbc_data.csv')"
   ]
  },
  {
   "cell_type": "code",
   "execution_count": 3,
   "id": "eea7cf1a",
   "metadata": {},
   "outputs": [
    {
     "data": {
      "text/plain": [
       "array(['business', 'entertainment', 'politics', 'sport', 'tech'],\n",
       "      dtype=object)"
      ]
     },
     "execution_count": 3,
     "metadata": {},
     "output_type": "execute_result"
    }
   ],
   "source": [
    "df['type'].unique()"
   ]
  },
  {
   "cell_type": "code",
   "execution_count": 4,
   "id": "abee06a1",
   "metadata": {},
   "outputs": [
    {
     "data": {
      "text/plain": [
       "876    b'UK TV channel rapped for CSI ad\\n\\nTV channe...\n",
       "579    b'Lee to create new film superhero\\n\\nComic bo...\n",
       "695    b\"Bennett play takes theatre prizes\\n\\nThe His...\n",
       "764    b\"Soul sensation ready for awards\\n\\nSouth Wes...\n",
       "637    b'U2\\'s desire to be number one\\n\\nU2, who hav...\n",
       "542    b\"Housewives lift Channel 4 ratings\\n\\nThe deb...\n",
       "877    b'Surprise win for anti-Bush film\\n\\nMichael M...\n",
       "828    b'Controversial film tops festival\\n\\nA contro...\n",
       "658    b\"Celebrities get their skates on\\n\\nFormer En...\n",
       "821    b'Britney attacks \\'false tabloids\\'\\n\\nPop st...\n",
       "Name: news, dtype: object"
      ]
     },
     "execution_count": 4,
     "metadata": {},
     "output_type": "execute_result"
    }
   ],
   "source": [
    "df['news'][df['type']=='entertainment'].sample(10)"
   ]
  },
  {
   "cell_type": "code",
   "execution_count": 5,
   "id": "81a8b741",
   "metadata": {},
   "outputs": [
    {
     "data": {
      "text/plain": [
       "'b\\'Ocean\\\\\\'s Twelve raids box office\\\\n\\\\nOcean\\\\\\'s Twelve, the crime caper sequel starring George Clooney, Brad Pitt and Julia Roberts, has gone straight to number one in the US box office chart.\\\\n\\\\nIt took $40.8m (\\\\xc2\\\\xa321m) in weekend ticket sales, according to studio estimates. The sequel follows the master criminals as they try to pull off three major heists across Europe. It knocked last week\\\\\\'s number one, National Treasure, into third place. Wesley Snipes\\\\\\' Blade: Trinity was in second, taking $16.1m (\\\\xc2\\\\xa38.4m). Rounding out the top five was animated fable The Polar Express, starring Tom Hanks, and festive comedy Christmas with the Kranks.\\\\n\\\\nOcean\\\\\\'s Twelve box office triumph marks the fourth-biggest opening for a December release in the US, after the three films in the Lord of the Rings trilogy. The sequel narrowly beat its 2001 predecessor, Ocean\\\\\\'s Eleven which took $38.1m (\\\\xc2\\\\xa319.8m) on its opening weekend and $184m (\\\\xc2\\\\xa395.8m) in total. A remake of the 1960s film, starring Frank Sinatra and the Rat Pack, Ocean\\\\\\'s Eleven was directed by Oscar-winning director Steven Soderbergh. Soderbergh returns to direct the hit sequel which reunites Clooney, Pitt and Roberts with Matt Damon, Andy Garcia and Elliott Gould. Catherine Zeta-Jones joins the all-star cast. \"It\\\\\\'s just a fun, good holiday movie,\" said Dan Fellman, president of distribution at Warner Bros. However, US critics were less complimentary about the $110m (\\\\xc2\\\\xa357.2m) project, with the Los Angeles Times labelling it a \"dispiriting vanity project\". A milder review in the New York Times dubbed the sequel \"unabashedly trivial\".\\\\n\\''"
      ]
     },
     "execution_count": 5,
     "metadata": {},
     "output_type": "execute_result"
    }
   ],
   "source": [
    "df['news'][638]"
   ]
  },
  {
   "cell_type": "code",
   "execution_count": 6,
   "id": "a1623c32",
   "metadata": {},
   "outputs": [
    {
     "name": "stderr",
     "output_type": "stream",
     "text": [
      "<>:4: DeprecationWarning: invalid escape sequence \\S\n",
      "<>:7: DeprecationWarning: invalid escape sequence \\s\n",
      "<>:4: DeprecationWarning: invalid escape sequence \\S\n",
      "<>:7: DeprecationWarning: invalid escape sequence \\s\n",
      "C:\\Users\\lasya\\AppData\\Local\\Temp/ipykernel_7832/1300363114.py:4: DeprecationWarning: invalid escape sequence \\S\n",
      "  data = [re.sub('\\S*@\\S*\\s?', '', sent) for sent in data]\n",
      "C:\\Users\\lasya\\AppData\\Local\\Temp/ipykernel_7832/1300363114.py:7: DeprecationWarning: invalid escape sequence \\s\n",
      "  data = [re.sub('\\s+', ' ', sent) for sent in data]\n"
     ]
    }
   ],
   "source": [
    "data = df.news.values.tolist()\n",
    "\n",
    "# Remove Emails\n",
    "data = [re.sub('\\S*@\\S*\\s?', '', sent) for sent in data]\n",
    "\n",
    "# Remove new line characters\n",
    "data = [re.sub('\\s+', ' ', sent) for sent in data]\n",
    "\n",
    "# Remove distracting single quotes\n",
    "data = [re.sub(\"\\'\", \"\", sent) for sent in data]"
   ]
  },
  {
   "cell_type": "code",
   "execution_count": 7,
   "id": "890a69a8",
   "metadata": {},
   "outputs": [
    {
     "name": "stdout",
     "output_type": "stream",
     "text": [
      "[['bus', 'consumer', 'confidence', 'up', 'nconsumers', 'confidence', 'in', 'the', 'state', 'of', 'the', 'us', 'economy', 'is', 'at', 'its', 'highest', 'for', 'five', 'months', 'and', 'they', 'are', 'optimistic', 'about', 'an', 'influential', 'survey', 'says', 'nthe', 'feel', 'good', 'factor', 'among', 'us', 'consumers', 'rose', 'in', 'december', 'for', 'the', 'first', 'time', 'since', 'july', 'according', 'to', 'new', 'data', 'the', 'conference', 'board', 'survey', 'of', 'households', 'pointed', 'to', 'renewed', 'optimism', 'about', 'job', 'creation', 'and', 'economic', 'growth', 'us', 'retailers', 'have', 'reported', 'strong', 'sales', 'over', 'the', 'past', 'days', 'after', 'slow', 'start', 'to', 'the', 'crucial', 'festive', 'season', 'naccording', 'to', 'figures', 'also', 'released', 'on', 'tuesday', 'sales', 'in', 'shopping', 'malls', 'in', 'the', 'week', 'to', 'december', 'were', 'higher', 'than', 'in', 'following', 'last', 'minute', 'rush', 'wal', 'mart', 'the', 'largest', 'us', 'retailer', 'has', 'said', 'its', 'december', 'sales', 'are', 'expected', 'to', 'be', 'better', 'than', 'previously', 'forecast', 'because', 'of', 'strong', 'post', 'christmas', 'sales', 'nit', 'is', 'expecting', 'annual', 'sales', 'growth', 'of', 'between', 'and', 'for', 'the', 'month', 'consumer', 'confidence', 'figures', 'are', 'considered', 'key', 'economic', 'indicator', 'because', 'consumer', 'spending', 'accounts', 'for', 'about', 'two', 'thirds', 'of', 'all', 'economic', 'activity', 'in', 'the', 'united', 'states', 'the', 'continuing', 'economic', 'expansion', 'combined', 'with', 'job', 'growth', 'has', 'consumers', 'ending', 'this', 'year', 'on', 'high', 'note', 'said', 'lynn', 'franco', 'director', 'of', 'the', 'conference', 'board', 'consumer', 'research', 'centre', 'and', 'consumers', 'outlook', 'suggests', 'that', 'the', 'economy', 'will', 'continue', 'to', 'expand', 'in', 'the', 'first', 'half', 'of', 'next', 'year', 'the', 'overall', 'us', 'economy', 'has', 'performed', 'strongly', 'in', 'recent', 'months', 'prompting', 'the', 'federal', 'reserve', 'to', 'increase', 'interest', 'rates', 'five', 'times', 'since', 'june']]\n"
     ]
    }
   ],
   "source": [
    "def sent_to_words(sentences, deacc=True): \n",
    "    for sentence in sentences:\n",
    "        yield(gensim.utils.simple_preprocess(str(sentence), deacc=True))\n",
    "        \n",
    "data_words = list(sent_to_words(data))     \n",
    "\n",
    "print(data_words[:1])"
   ]
  },
  {
   "cell_type": "code",
   "execution_count": 8,
   "id": "1c450b00",
   "metadata": {},
   "outputs": [
    {
     "name": "stdout",
     "output_type": "stream",
     "text": [
      "['bus consumer confidence nconsumer confidence state economy be high month be optimistic influential survey say feel good factor consumer rise december first time accord new datum conference board survey household point renew optimism job creation economic growth retailer have report strong sale past day slow start crucial festive season naccorde figure also release tuesday sale shopping mall week december be high follow last minute rush wal mart large retailer have say december sale be expect be well previously forecast strong post christmas sale nit be expect annual sale growth month consumer confidence figure be consider key economic indicator consumer spending account about third economic activity united state continue economic expansion combine job growth have consumer end year high note say lynn franco director conference board consumer research centre consumer outlook suggest economy continue expand first half next year overall economy have perform strongly recent month prompt federal reserve increase interest rate time june', 'bthe tick budget face nthe budget proposal lay administration president george bush be highly controversial washington base economic policy institute tend be critical president look possible fault line politician citizen political persuasion be dose shock therapy major change current policy political prejudice federal budget simply hold news coverage bush budget be dominate debate spending cut fact be be large cut small program standpoint big fiscal trend cut be gratuitous big budget train wreck be yet come direct threat be federal government ability make good debt social security trust fund as soon fund begin require cash return bond holding order finance promise benefit trigger come shock be rise federal debt grow year conservative estimate more nation total annual output nthis upward trend force increase borrowing federal government put upward pressure interest rate face consumer business even now grow share borrow be abroad government finance operation heavy borrowing central bank japan china other nation do bode well influence world decline dollar be warn sign current economic trend continue dollar be already sink too long credit market be likely react interest rate creep upwards be shock ninterest sensitive industry feel pain immediately sector such housing automobile other consumer durable agriculture small business recall news footage angry farmer drive heavy equipment capitol late be need constitutional amendment balance budget public outcry force congress act act wisely be matter how do happen nby definition deficit mean too little revenue too much spending neutral description doesn adequately capture current situation federal revenue be level spending remain where have be recent decade much high addition united state have significant military mission bush administration choose remedy be least feasible reduce domestic spending eliminate waste fraud abuse be toothless slice budget be too small solve problem indeed congress be rash enough balance budget way hardly be such spending leave law enforcement space exploration environmental clean economic development small business administration housing veteran benefit aid state local government all but disappear fantasy think routine government function be slash big spending growth area be defence include homeland security health care elderly poor extent increase area be inevitable population be age nation do face genuine threat world serious saving only be find where big money be saving health care spending do come expense health only be achieve wholesale reform entire system public private brute force budget cut spending cap ill serve nation elderly indigent non revenue side lion share revenue lose tax cut enact have be replace nsome rearranging hold many people harmless focus most pain relatively high income finally blind allegiance balanced budget have be abandon be good reason fixate anyway moderate deficit slowly rise federal debt be sustain indefinitely borrow investment education infrastructure pay future year make sense soon face reality soon workable reform be pursue first list be tax reform raise revenue simplify tax code restore fairness erode bush tax cut second be dispassionate re evaluation huge increase defence spending past year much unrelated afghanistan iraq terrorism third be start serious debate large scale health care reform thing be certain destroy budget order save be go equip economy government challenge new century']\n"
     ]
    }
   ],
   "source": [
    "#lemmatize\n",
    "import en_core_web_sm\n",
    "#nlp = en_core_web_sm.load()\n",
    "def lemmatization(texts, allowed_postags=['NOUN','ADJ','VERB','ADV']):\n",
    "    texts_out=[]\n",
    "    for sent in texts:\n",
    "        doc=nlp(' '.join(sent))\n",
    "        texts_out.append(\" \".join([token.lemma_ if token.lemma_ not in ['-PRON-'] else '' for token in doc if token.pos_ in allowed_postags]))\n",
    "    return texts_out\n",
    "\n",
    "nlp = spacy.load(\"en_core_web_sm\", disable=['parser', 'ner'])\n",
    "\n",
    "data_lemmatized = lemmatization(data_words, allowed_postags=['NOUN', 'ADJ', 'VERB', 'ADV'])\n",
    "\n",
    "print(data_lemmatized[:2])"
   ]
  },
  {
   "cell_type": "code",
   "execution_count": 9,
   "id": "beefc09f",
   "metadata": {},
   "outputs": [],
   "source": [
    "vectorizer = CountVectorizer(analyzer='word',       \n",
    "                             min_df=10,                        # minimum read occurences of a word \n",
    "                             stop_words='english',             # remove stop words\n",
    "                             lowercase=True,                   # convert all words to lowercase\n",
    "                             token_pattern='[a-zA-Z0-9]{3,}',  # num chars > 3\n",
    "                             # max_features=50000,             # max number of uniq words\n",
    "                            )\n",
    "\n",
    "data_vectorized = vectorizer.fit_transform(data_lemmatized)"
   ]
  },
  {
   "cell_type": "code",
   "execution_count": 10,
   "id": "945d9eca",
   "metadata": {},
   "outputs": [
    {
     "name": "stdout",
     "output_type": "stream",
     "text": [
      "LatentDirichletAllocation(learning_decay=0.9, learning_method='online',\n",
      "                          n_components=5, n_jobs=-1, random_state=100)\n"
     ]
    }
   ],
   "source": [
    "# Build LDA Model\n",
    "lda_model = LatentDirichletAllocation(n_components=5,               # Number of topics\n",
    "                                      max_iter=10,               # Max learning iterations\n",
    "                                      learning_method='online',   \n",
    "                                      random_state=seed,          # Random state\n",
    "                                      batch_size=128,            # n docs in each learning iter\n",
    "                                      evaluate_every=-1,       # compute perplexity every n iters, default: Don't\n",
    "                                      n_jobs=-1,               # Use all available CPUs\n",
    "                                      learning_decay=0.9\n",
    "                                     )\n",
    "lda_output = lda_model.fit_transform(data_vectorized)\n",
    "\n",
    "print(lda_model)  # Model attributes"
   ]
  },
  {
   "cell_type": "code",
   "execution_count": 11,
   "id": "e7e66ec2",
   "metadata": {},
   "outputs": [
    {
     "name": "stdout",
     "output_type": "stream",
     "text": [
      "Log Likelihood:  -2616563.631168631\n",
      "Perplexity:  1369.4588046576564\n",
      "{'batch_size': 128,\n",
      " 'doc_topic_prior': None,\n",
      " 'evaluate_every': -1,\n",
      " 'learning_decay': 0.9,\n",
      " 'learning_method': 'online',\n",
      " 'learning_offset': 10.0,\n",
      " 'max_doc_update_iter': 100,\n",
      " 'max_iter': 10,\n",
      " 'mean_change_tol': 0.001,\n",
      " 'n_components': 5,\n",
      " 'n_jobs': -1,\n",
      " 'perp_tol': 0.1,\n",
      " 'random_state': 100,\n",
      " 'topic_word_prior': None,\n",
      " 'total_samples': 1000000.0,\n",
      " 'verbose': 0}\n"
     ]
    }
   ],
   "source": [
    "# Log Likelyhood: Higher the better\n",
    "print(\"Log Likelihood: \", lda_model.score(data_vectorized))\n",
    "\n",
    "# Perplexity: Lower the better. Perplexity = exp(-1. * log-likelihood per word)\n",
    "print(\"Perplexity: \", lda_model.perplexity(data_vectorized))\n",
    "\n",
    "# See model parameters\n",
    "pprint(lda_model.get_params())"
   ]
  },
  {
   "cell_type": "code",
   "execution_count": 12,
   "id": "4d7dd199",
   "metadata": {},
   "outputs": [
    {
     "data": {
      "text/html": [
       "<style type=\"text/css\">\n",
       "#T_aa2d4_row0_col0, #T_aa2d4_row0_col1, #T_aa2d4_row0_col2, #T_aa2d4_row0_col3, #T_aa2d4_row1_col1, #T_aa2d4_row1_col2, #T_aa2d4_row1_col3, #T_aa2d4_row2_col0, #T_aa2d4_row2_col2, #T_aa2d4_row2_col3, #T_aa2d4_row3_col0, #T_aa2d4_row3_col1, #T_aa2d4_row3_col3, #T_aa2d4_row4_col1, #T_aa2d4_row4_col3, #T_aa2d4_row4_col5, #T_aa2d4_row5_col1, #T_aa2d4_row5_col2, #T_aa2d4_row5_col3, #T_aa2d4_row6_col0, #T_aa2d4_row6_col2, #T_aa2d4_row6_col3, #T_aa2d4_row7_col0, #T_aa2d4_row7_col1, #T_aa2d4_row7_col2, #T_aa2d4_row7_col3, #T_aa2d4_row8_col0, #T_aa2d4_row8_col1, #T_aa2d4_row8_col2, #T_aa2d4_row9_col0, #T_aa2d4_row9_col1, #T_aa2d4_row9_col2, #T_aa2d4_row9_col3, #T_aa2d4_row10_col0, #T_aa2d4_row10_col1, #T_aa2d4_row10_col2, #T_aa2d4_row10_col3, #T_aa2d4_row11_col0, #T_aa2d4_row11_col1, #T_aa2d4_row11_col3, #T_aa2d4_row12_col3, #T_aa2d4_row13_col0, #T_aa2d4_row13_col2, #T_aa2d4_row13_col3, #T_aa2d4_row14_col2, #T_aa2d4_row14_col3 {\n",
       "  color: black;\n",
       "  font-weight: 400;\n",
       "}\n",
       "#T_aa2d4_row0_col4, #T_aa2d4_row0_col5, #T_aa2d4_row1_col0, #T_aa2d4_row1_col4, #T_aa2d4_row1_col5, #T_aa2d4_row2_col1, #T_aa2d4_row2_col4, #T_aa2d4_row2_col5, #T_aa2d4_row3_col2, #T_aa2d4_row3_col4, #T_aa2d4_row3_col5, #T_aa2d4_row4_col0, #T_aa2d4_row4_col2, #T_aa2d4_row4_col4, #T_aa2d4_row5_col0, #T_aa2d4_row5_col4, #T_aa2d4_row5_col5, #T_aa2d4_row6_col1, #T_aa2d4_row6_col4, #T_aa2d4_row6_col5, #T_aa2d4_row7_col4, #T_aa2d4_row7_col5, #T_aa2d4_row8_col3, #T_aa2d4_row8_col4, #T_aa2d4_row8_col5, #T_aa2d4_row9_col4, #T_aa2d4_row9_col5, #T_aa2d4_row10_col4, #T_aa2d4_row10_col5, #T_aa2d4_row11_col2, #T_aa2d4_row11_col4, #T_aa2d4_row11_col5, #T_aa2d4_row12_col0, #T_aa2d4_row12_col1, #T_aa2d4_row12_col2, #T_aa2d4_row12_col4, #T_aa2d4_row12_col5, #T_aa2d4_row13_col1, #T_aa2d4_row13_col4, #T_aa2d4_row13_col5, #T_aa2d4_row14_col0, #T_aa2d4_row14_col1, #T_aa2d4_row14_col4, #T_aa2d4_row14_col5 {\n",
       "  color: green;\n",
       "  font-weight: 700;\n",
       "}\n",
       "</style>\n",
       "<table id=\"T_aa2d4_\">\n",
       "  <thead>\n",
       "    <tr>\n",
       "      <th class=\"blank level0\" >&nbsp;</th>\n",
       "      <th class=\"col_heading level0 col0\" >Topic0</th>\n",
       "      <th class=\"col_heading level0 col1\" >Topic1</th>\n",
       "      <th class=\"col_heading level0 col2\" >Topic2</th>\n",
       "      <th class=\"col_heading level0 col3\" >Topic3</th>\n",
       "      <th class=\"col_heading level0 col4\" >Topic4</th>\n",
       "      <th class=\"col_heading level0 col5\" >dominant_topic</th>\n",
       "    </tr>\n",
       "  </thead>\n",
       "  <tbody>\n",
       "    <tr>\n",
       "      <th id=\"T_aa2d4_level0_row0\" class=\"row_heading level0 row0\" >Doc0</th>\n",
       "      <td id=\"T_aa2d4_row0_col0\" class=\"data row0 col0\" >0.000000</td>\n",
       "      <td id=\"T_aa2d4_row0_col1\" class=\"data row0 col1\" >0.000000</td>\n",
       "      <td id=\"T_aa2d4_row0_col2\" class=\"data row0 col2\" >0.000000</td>\n",
       "      <td id=\"T_aa2d4_row0_col3\" class=\"data row0 col3\" >0.000000</td>\n",
       "      <td id=\"T_aa2d4_row0_col4\" class=\"data row0 col4\" >0.990000</td>\n",
       "      <td id=\"T_aa2d4_row0_col5\" class=\"data row0 col5\" >4</td>\n",
       "    </tr>\n",
       "    <tr>\n",
       "      <th id=\"T_aa2d4_level0_row1\" class=\"row_heading level0 row1\" >Doc1</th>\n",
       "      <td id=\"T_aa2d4_row1_col0\" class=\"data row1 col0\" >0.300000</td>\n",
       "      <td id=\"T_aa2d4_row1_col1\" class=\"data row1 col1\" >0.010000</td>\n",
       "      <td id=\"T_aa2d4_row1_col2\" class=\"data row1 col2\" >0.000000</td>\n",
       "      <td id=\"T_aa2d4_row1_col3\" class=\"data row1 col3\" >0.000000</td>\n",
       "      <td id=\"T_aa2d4_row1_col4\" class=\"data row1 col4\" >0.690000</td>\n",
       "      <td id=\"T_aa2d4_row1_col5\" class=\"data row1 col5\" >4</td>\n",
       "    </tr>\n",
       "    <tr>\n",
       "      <th id=\"T_aa2d4_level0_row2\" class=\"row_heading level0 row2\" >Doc2</th>\n",
       "      <td id=\"T_aa2d4_row2_col0\" class=\"data row2 col0\" >0.000000</td>\n",
       "      <td id=\"T_aa2d4_row2_col1\" class=\"data row2 col1\" >0.140000</td>\n",
       "      <td id=\"T_aa2d4_row2_col2\" class=\"data row2 col2\" >0.000000</td>\n",
       "      <td id=\"T_aa2d4_row2_col3\" class=\"data row2 col3\" >0.000000</td>\n",
       "      <td id=\"T_aa2d4_row2_col4\" class=\"data row2 col4\" >0.860000</td>\n",
       "      <td id=\"T_aa2d4_row2_col5\" class=\"data row2 col5\" >4</td>\n",
       "    </tr>\n",
       "    <tr>\n",
       "      <th id=\"T_aa2d4_level0_row3\" class=\"row_heading level0 row3\" >Doc3</th>\n",
       "      <td id=\"T_aa2d4_row3_col0\" class=\"data row3 col0\" >0.100000</td>\n",
       "      <td id=\"T_aa2d4_row3_col1\" class=\"data row3 col1\" >0.000000</td>\n",
       "      <td id=\"T_aa2d4_row3_col2\" class=\"data row3 col2\" >0.550000</td>\n",
       "      <td id=\"T_aa2d4_row3_col3\" class=\"data row3 col3\" >0.000000</td>\n",
       "      <td id=\"T_aa2d4_row3_col4\" class=\"data row3 col4\" >0.350000</td>\n",
       "      <td id=\"T_aa2d4_row3_col5\" class=\"data row3 col5\" >2</td>\n",
       "    </tr>\n",
       "    <tr>\n",
       "      <th id=\"T_aa2d4_level0_row4\" class=\"row_heading level0 row4\" >Doc4</th>\n",
       "      <td id=\"T_aa2d4_row4_col0\" class=\"data row4 col0\" >0.470000</td>\n",
       "      <td id=\"T_aa2d4_row4_col1\" class=\"data row4 col1\" >0.000000</td>\n",
       "      <td id=\"T_aa2d4_row4_col2\" class=\"data row4 col2\" >0.180000</td>\n",
       "      <td id=\"T_aa2d4_row4_col3\" class=\"data row4 col3\" >0.000000</td>\n",
       "      <td id=\"T_aa2d4_row4_col4\" class=\"data row4 col4\" >0.350000</td>\n",
       "      <td id=\"T_aa2d4_row4_col5\" class=\"data row4 col5\" >0</td>\n",
       "    </tr>\n",
       "    <tr>\n",
       "      <th id=\"T_aa2d4_level0_row5\" class=\"row_heading level0 row5\" >Doc5</th>\n",
       "      <td id=\"T_aa2d4_row5_col0\" class=\"data row5 col0\" >0.180000</td>\n",
       "      <td id=\"T_aa2d4_row5_col1\" class=\"data row5 col1\" >0.020000</td>\n",
       "      <td id=\"T_aa2d4_row5_col2\" class=\"data row5 col2\" >0.000000</td>\n",
       "      <td id=\"T_aa2d4_row5_col3\" class=\"data row5 col3\" >0.000000</td>\n",
       "      <td id=\"T_aa2d4_row5_col4\" class=\"data row5 col4\" >0.790000</td>\n",
       "      <td id=\"T_aa2d4_row5_col5\" class=\"data row5 col5\" >4</td>\n",
       "    </tr>\n",
       "    <tr>\n",
       "      <th id=\"T_aa2d4_level0_row6\" class=\"row_heading level0 row6\" >Doc6</th>\n",
       "      <td id=\"T_aa2d4_row6_col0\" class=\"data row6 col0\" >0.000000</td>\n",
       "      <td id=\"T_aa2d4_row6_col1\" class=\"data row6 col1\" >0.510000</td>\n",
       "      <td id=\"T_aa2d4_row6_col2\" class=\"data row6 col2\" >0.000000</td>\n",
       "      <td id=\"T_aa2d4_row6_col3\" class=\"data row6 col3\" >0.000000</td>\n",
       "      <td id=\"T_aa2d4_row6_col4\" class=\"data row6 col4\" >0.480000</td>\n",
       "      <td id=\"T_aa2d4_row6_col5\" class=\"data row6 col5\" >1</td>\n",
       "    </tr>\n",
       "    <tr>\n",
       "      <th id=\"T_aa2d4_level0_row7\" class=\"row_heading level0 row7\" >Doc7</th>\n",
       "      <td id=\"T_aa2d4_row7_col0\" class=\"data row7 col0\" >0.000000</td>\n",
       "      <td id=\"T_aa2d4_row7_col1\" class=\"data row7 col1\" >0.000000</td>\n",
       "      <td id=\"T_aa2d4_row7_col2\" class=\"data row7 col2\" >0.050000</td>\n",
       "      <td id=\"T_aa2d4_row7_col3\" class=\"data row7 col3\" >0.000000</td>\n",
       "      <td id=\"T_aa2d4_row7_col4\" class=\"data row7 col4\" >0.950000</td>\n",
       "      <td id=\"T_aa2d4_row7_col5\" class=\"data row7 col5\" >4</td>\n",
       "    </tr>\n",
       "    <tr>\n",
       "      <th id=\"T_aa2d4_level0_row8\" class=\"row_heading level0 row8\" >Doc8</th>\n",
       "      <td id=\"T_aa2d4_row8_col0\" class=\"data row8 col0\" >0.000000</td>\n",
       "      <td id=\"T_aa2d4_row8_col1\" class=\"data row8 col1\" >0.030000</td>\n",
       "      <td id=\"T_aa2d4_row8_col2\" class=\"data row8 col2\" >0.000000</td>\n",
       "      <td id=\"T_aa2d4_row8_col3\" class=\"data row8 col3\" >0.150000</td>\n",
       "      <td id=\"T_aa2d4_row8_col4\" class=\"data row8 col4\" >0.810000</td>\n",
       "      <td id=\"T_aa2d4_row8_col5\" class=\"data row8 col5\" >4</td>\n",
       "    </tr>\n",
       "    <tr>\n",
       "      <th id=\"T_aa2d4_level0_row9\" class=\"row_heading level0 row9\" >Doc9</th>\n",
       "      <td id=\"T_aa2d4_row9_col0\" class=\"data row9 col0\" >0.000000</td>\n",
       "      <td id=\"T_aa2d4_row9_col1\" class=\"data row9 col1\" >0.000000</td>\n",
       "      <td id=\"T_aa2d4_row9_col2\" class=\"data row9 col2\" >0.000000</td>\n",
       "      <td id=\"T_aa2d4_row9_col3\" class=\"data row9 col3\" >0.000000</td>\n",
       "      <td id=\"T_aa2d4_row9_col4\" class=\"data row9 col4\" >0.990000</td>\n",
       "      <td id=\"T_aa2d4_row9_col5\" class=\"data row9 col5\" >4</td>\n",
       "    </tr>\n",
       "    <tr>\n",
       "      <th id=\"T_aa2d4_level0_row10\" class=\"row_heading level0 row10\" >Doc10</th>\n",
       "      <td id=\"T_aa2d4_row10_col0\" class=\"data row10 col0\" >0.000000</td>\n",
       "      <td id=\"T_aa2d4_row10_col1\" class=\"data row10 col1\" >0.080000</td>\n",
       "      <td id=\"T_aa2d4_row10_col2\" class=\"data row10 col2\" >0.000000</td>\n",
       "      <td id=\"T_aa2d4_row10_col3\" class=\"data row10 col3\" >0.000000</td>\n",
       "      <td id=\"T_aa2d4_row10_col4\" class=\"data row10 col4\" >0.910000</td>\n",
       "      <td id=\"T_aa2d4_row10_col5\" class=\"data row10 col5\" >4</td>\n",
       "    </tr>\n",
       "    <tr>\n",
       "      <th id=\"T_aa2d4_level0_row11\" class=\"row_heading level0 row11\" >Doc11</th>\n",
       "      <td id=\"T_aa2d4_row11_col0\" class=\"data row11 col0\" >0.000000</td>\n",
       "      <td id=\"T_aa2d4_row11_col1\" class=\"data row11 col1\" >0.000000</td>\n",
       "      <td id=\"T_aa2d4_row11_col2\" class=\"data row11 col2\" >0.140000</td>\n",
       "      <td id=\"T_aa2d4_row11_col3\" class=\"data row11 col3\" >0.000000</td>\n",
       "      <td id=\"T_aa2d4_row11_col4\" class=\"data row11 col4\" >0.850000</td>\n",
       "      <td id=\"T_aa2d4_row11_col5\" class=\"data row11 col5\" >4</td>\n",
       "    </tr>\n",
       "    <tr>\n",
       "      <th id=\"T_aa2d4_level0_row12\" class=\"row_heading level0 row12\" >Doc12</th>\n",
       "      <td id=\"T_aa2d4_row12_col0\" class=\"data row12 col0\" >0.110000</td>\n",
       "      <td id=\"T_aa2d4_row12_col1\" class=\"data row12 col1\" >0.560000</td>\n",
       "      <td id=\"T_aa2d4_row12_col2\" class=\"data row12 col2\" >0.130000</td>\n",
       "      <td id=\"T_aa2d4_row12_col3\" class=\"data row12 col3\" >0.000000</td>\n",
       "      <td id=\"T_aa2d4_row12_col4\" class=\"data row12 col4\" >0.200000</td>\n",
       "      <td id=\"T_aa2d4_row12_col5\" class=\"data row12 col5\" >1</td>\n",
       "    </tr>\n",
       "    <tr>\n",
       "      <th id=\"T_aa2d4_level0_row13\" class=\"row_heading level0 row13\" >Doc13</th>\n",
       "      <td id=\"T_aa2d4_row13_col0\" class=\"data row13 col0\" >0.000000</td>\n",
       "      <td id=\"T_aa2d4_row13_col1\" class=\"data row13 col1\" >0.510000</td>\n",
       "      <td id=\"T_aa2d4_row13_col2\" class=\"data row13 col2\" >0.000000</td>\n",
       "      <td id=\"T_aa2d4_row13_col3\" class=\"data row13 col3\" >0.000000</td>\n",
       "      <td id=\"T_aa2d4_row13_col4\" class=\"data row13 col4\" >0.480000</td>\n",
       "      <td id=\"T_aa2d4_row13_col5\" class=\"data row13 col5\" >1</td>\n",
       "    </tr>\n",
       "    <tr>\n",
       "      <th id=\"T_aa2d4_level0_row14\" class=\"row_heading level0 row14\" >Doc14</th>\n",
       "      <td id=\"T_aa2d4_row14_col0\" class=\"data row14 col0\" >0.170000</td>\n",
       "      <td id=\"T_aa2d4_row14_col1\" class=\"data row14 col1\" >0.220000</td>\n",
       "      <td id=\"T_aa2d4_row14_col2\" class=\"data row14 col2\" >0.000000</td>\n",
       "      <td id=\"T_aa2d4_row14_col3\" class=\"data row14 col3\" >0.000000</td>\n",
       "      <td id=\"T_aa2d4_row14_col4\" class=\"data row14 col4\" >0.610000</td>\n",
       "      <td id=\"T_aa2d4_row14_col5\" class=\"data row14 col5\" >4</td>\n",
       "    </tr>\n",
       "  </tbody>\n",
       "</table>\n"
      ],
      "text/plain": [
       "<pandas.io.formats.style.Styler at 0x2bce1337790>"
      ]
     },
     "execution_count": 12,
     "metadata": {},
     "output_type": "execute_result"
    }
   ],
   "source": [
    "# column names\n",
    "topicnames = [\"Topic\" + str(i) for i in range(lda_model.n_components)]\n",
    "\n",
    "# index names\n",
    "docnames = [\"Doc\" + str(i) for i in range(len(data))]\n",
    "\n",
    "# Make the pandas dataframe\n",
    "df_document_topic = pd.DataFrame(np.round(lda_output, 2), columns=topicnames, index=docnames)\n",
    "\n",
    "# Get dominant topic for each document\n",
    "dominant_topic = np.argmax(df_document_topic.values, axis=1)\n",
    "df_document_topic['dominant_topic'] = dominant_topic\n",
    "\n",
    "# Styling\n",
    "def color_green(val):\n",
    "    color = 'green' if val > .1 else 'black'\n",
    "    return 'color: {col}'.format(col=color)\n",
    "\n",
    "def make_bold(val):\n",
    "    weight = 700 if val > .1 else 400\n",
    "    return 'font-weight: {weight}'.format(weight=weight)\n",
    "\n",
    "# Apply Style\n",
    "df_document_topics = df_document_topic.head(15).style.applymap(color_green).applymap(make_bold)\n",
    "df_document_topics"
   ]
  },
  {
   "cell_type": "code",
   "execution_count": 13,
   "id": "2bdd7596",
   "metadata": {},
   "outputs": [
    {
     "name": "stderr",
     "output_type": "stream",
     "text": [
      "c:\\users\\lasya\\appdata\\local\\programs\\python\\python39\\lib\\site-packages\\pyLDAvis\\_prepare.py:246: FutureWarning: In a future version of pandas all arguments of DataFrame.drop except for the argument 'labels' will be keyword-only\n",
      "  default_term_info = default_term_info.sort_values(\n",
      "c:\\users\\lasya\\appdata\\local\\programs\\python\\python39\\lib\\site-packages\\sklearn\\manifold\\_t_sne.py:691: FutureWarning: 'square_distances' has been introduced in 0.24 to help phase out legacy squaring behavior. The 'legacy' setting will be removed in 1.1 (renaming of 0.26), and the default setting will be changed to True. In 1.3, 'square_distances' will be removed altogether, and distances will be squared by default. Set 'square_distances'=True to silence this warning.\n",
      "  warnings.warn(\n"
     ]
    },
    {
     "data": {
      "text/html": [
       "\n",
       "<link rel=\"stylesheet\" type=\"text/css\" href=\"https://cdn.jsdelivr.net/gh/bmabey/pyLDAvis@3.3.1/pyLDAvis/js/ldavis.v1.0.0.css\">\n",
       "\n",
       "\n",
       "<div id=\"ldavis_el783230090833749446916829398\"></div>\n",
       "<script type=\"text/javascript\">\n",
       "\n",
       "var ldavis_el783230090833749446916829398_data = {\"mdsDat\": {\"x\": [150.22215270996094, 51.16336441040039, -73.1445541381836, -66.4101333618164, 54.41732406616211], \"y\": [-72.2695541381836, -159.968017578125, 21.523815155029297, -110.60643768310547, 12.44344425201416], \"topics\": [1, 2, 3, 4, 5], \"cluster\": [1, 1, 1, 1, 1], \"Freq\": [30.18873981836125, 21.07779265506884, 20.422628478272397, 18.455493127807074, 9.855345920490437]}, \"tinfo\": {\"Term\": [\"say\", \"party\", \"labour\", \"election\", \"mobile\", \"government\", \"use\", \"technology\", \"film\", \"game\", \"phone\", \"blair\", \"court\", \"win\", \"minister\", \"law\", \"company\", \"user\", \"tory\", \"market\", \"rise\", \"firm\", \"case\", \"computer\", \"award\", \"price\", \"growth\", \"play\", \"people\", \"economy\", \"squad\", \"actress\", \"festival\", \"musical\", \"aviator\", \"oscar\", \"theatre\", \"roddick\", \"chart\", \"championship\", \"hip\", \"grand\", \"owen\", \"drama\", \"hop\", \"soul\", \"actor\", \"indoor\", \"captain\", \"nominee\", \"runner\", \"foxx\", \"woodward\", \"bafta\", \"comedy\", \"hodgson\", \"rugby\", \"harry\", \"robbie\", \"sequel\", \"star\", \"award\", \"cup\", \"singer\", \"nomination\", \"album\", \"injury\", \"prize\", \"seed\", \"film\", \"andy\", \"score\", \"beat\", \"champion\", \"winner\", \"match\", \"win\", \"season\", \"play\", \"title\", \"band\", \"game\", \"victory\", \"good\", \"team\", \"coach\", \"final\", \"player\", \"england\", \"song\", \"minute\", \"second\", \"year\", \"ireland\", \"time\", \"old\", \"world\", \"half\", \"make\", \"music\", \"say\", \"come\", \"just\", \"great\", \"think\", \"new\", \"include\", \"set\", \"number\", \"week\", \"broadband\", \"user\", \"handset\", \"mobile\", \"mac\", \"ibm\", \"microsoft\", \"portable\", \"wireless\", \"desktop\", \"laptop\", \"processor\", \"provider\", \"browser\", \"multimedia\", \"boerse\", \"nokia\", \"intel\", \"storage\", \"computing\", \"ipod\", \"silicon\", \"web\", \"foster\", \"subscription\", \"yahoo\", \"gartner\", \"psp\", \"phone\", \"nmicrosoft\", \"computer\", \"device\", \"machine\", \"technology\", \"gadget\", \"software\", \"gaming\", \"network\", \"online\", \"virus\", \"digital\", \"console\", \"content\", \"apple\", \"program\", \"internet\", \"download\", \"net\", \"site\", \"search\", \"use\", \"mail\", \"video\", \"service\", \"website\", \"people\", \"say\", \"firm\", \"make\", \"music\", \"offer\", \"new\", \"company\", \"way\", \"work\", \"year\", \"game\", \"market\", \"time\", \"ukip\", \"tory\", \"kilroy\", \"manifesto\", \"asylum\", \"chancellor\", \"constitution\", \"milburn\", \"electoral\", \"letwin\", \"conservative\", \"lib\", \"politic\", \"prescott\", \"referendum\", \"blair\", \"ntony\", \"environmental\", \"westminster\", \"bblair\", \"peston\", \"constituency\", \"liberal\", \"dem\", \"muslim\", \"straw\", \"democrat\", \"nlabour\", \"democratic\", \"party\", \"labour\", \"election\", \"prime\", \"immigration\", \"education\", \"parliament\", \"brown\", \"silk\", \"secretary\", \"voter\", \"minister\", \"shadow\", \"howard\", \"council\", \"cabinet\", \"leader\", \"tony\", \"government\", \"lord\", \"political\", \"tax\", \"plan\", \"public\", \"say\", \"vote\", \"general\", \"issue\", \"britain\", \"campaign\", \"people\", \"tell\", \"school\", \"make\", \"bbc\", \"new\", \"country\", \"work\", \"year\", \"want\", \"airline\", \"imf\", \"deficit\", \"lanka\", \"sri\", \"currency\", \"aircraft\", \"economist\", \"gdp\", \"airbus\", \"import\", \"fed\", \"airway\", \"jet\", \"wage\", \"indonesia\", \"reconstruction\", \"eurozone\", \"upward\", \"rupee\", \"fare\", \"turkey\", \"recession\", \"tycoon\", \"nshare\", \"slowdown\", \"export\", \"tourism\", \"nasdaq\", \"indicator\", \"debt\", \"growth\", \"reserve\", \"price\", \"india\", \"euro\", \"economy\", \"inflation\", \"rate\", \"stock\", \"rise\", \"recovery\", \"profit\", \"investment\", \"economic\", \"bank\", \"china\", \"aid\", \"fall\", \"dollar\", \"oil\", \"market\", \"forecast\", \"sale\", \"share\", \"figure\", \"quarter\", \"trade\", \"analyst\", \"increase\", \"year\", \"business\", \"cost\", \"say\", \"month\", \"country\", \"high\", \"company\", \"expect\", \"report\", \"firm\", \"world\", \"new\", \"job\", \"make\", \"government\", \"time\", \"guilty\", \"lawyer\", \"kenteris\", \"prosecutor\", \"thanou\", \"yukos\", \"sentence\", \"ebber\", \"prosecution\", \"yugansk\", \"khodorkovsky\", \"doping\", \"rosneft\", \"gazprom\", \"balco\", \"plead\", \"conviction\", \"worldcom\", \"accounting\", \"arbitration\", \"prosecute\", \"hearing\", \"disciplinary\", \"jurisdiction\", \"fraud\", \"iaaf\", \"yuganskneftegas\", \"jail\", \"defendant\", \"prison\", \"hunt\", \"arrest\", \"attorney\", \"tribunal\", \"investigation\", \"court\", \"ruling\", \"sue\", \"trial\", \"legal\", \"lawsuit\", \"ban\", \"drug\", \"criminal\", \"case\", \"suspect\", \"law\", \"charge\", \"police\", \"evidence\", \"action\", \"russian\", \"judge\", \"say\", \"illegal\", \"claim\", \"bankruptcy\", \"test\", \"company\", \"file\", \"attack\", \"rule\", \"decision\", \"man\", \"tell\", \"firm\", \"right\", \"use\", \"year\", \"face\", \"make\", \"state\", \"government\", \"group\", \"new\"], \"Freq\": [8711.0, 783.0, 743.0, 749.0, 653.0, 1191.0, 1512.0, 681.0, 1143.0, 1580.0, 621.0, 567.0, 394.0, 1526.0, 714.0, 462.0, 1067.0, 486.0, 465.0, 832.0, 658.0, 966.0, 384.0, 478.0, 631.0, 500.0, 450.0, 1180.0, 2017.0, 463.0, 141.99472141707622, 151.25660108674552, 142.36517447203255, 98.41725410385853, 95.18639745593578, 201.77216692680065, 94.80518835680374, 97.80283332099705, 200.99307117379038, 152.83325188113972, 70.05424070646464, 143.7746158720937, 66.85365206223484, 86.97574828363246, 61.51117775604475, 53.785705374971805, 231.90440250718459, 104.97380538840186, 121.54245803458694, 60.1719236042188, 55.07093692299189, 49.701885991726726, 49.14609879894534, 47.847398949726546, 122.68450074060628, 50.23661590651054, 210.05235612266998, 71.63713306048946, 54.76852121579021, 52.51047565743857, 529.002230124031, 614.9540714644302, 296.3380607291792, 141.88359890297627, 133.54086371175768, 213.39666550485506, 269.31546674659614, 194.8820994384606, 107.57840937214931, 1046.1641255565114, 107.46899651090972, 164.22483623269304, 287.0561640584287, 266.7467443334439, 205.08766093951425, 372.37542724327125, 1296.2617779428165, 267.1561895409372, 989.0744863268349, 321.30046434647215, 238.48715527481372, 1208.3183644783858, 207.37980821838067, 1158.3862336414788, 391.5709271187416, 241.31970090322392, 372.69952127350695, 586.0119482140583, 428.1739841325864, 241.07858970127023, 272.9925675746733, 444.4647669528308, 1253.9911964355942, 262.8124664582846, 754.1055997508455, 378.73084127327326, 557.0885643781996, 298.2468029349368, 729.1248679008781, 422.3349314554955, 1411.9079827830726, 502.35676834419644, 441.8400792343898, 330.1228377494501, 418.9555705692761, 517.1074544890877, 378.6323313094519, 361.83775058498185, 354.2431107554819, 340.5812725231, 224.7866464146774, 482.6617809495128, 115.63556381556715, 646.84101651496, 94.88454420450142, 63.57320548020812, 242.22530534039055, 82.02729888999905, 107.80699790301917, 55.455380963215354, 79.8065017344081, 65.39268857136895, 58.91140516446454, 61.386936216527836, 57.615899092657884, 51.71272165288431, 45.67529869984703, 50.82039153268777, 57.45502450628735, 41.209556943447986, 96.8608379909521, 42.516717955451305, 186.77674774516655, 36.618654283422536, 31.26342081956512, 52.24018272742209, 31.26538623065016, 44.0396211985343, 601.7741715496155, 30.31123065628797, 461.6409808427661, 253.02767580231756, 190.90364301821802, 650.4802008790954, 178.45487147544213, 387.587014644287, 136.750178525417, 395.71307476636525, 324.97675520949235, 221.28917107015445, 374.45108466407623, 123.97939494256238, 210.55171366285668, 165.0634020318779, 197.89378607783178, 276.01797648724994, 222.11633718810182, 376.711460963082, 313.1193817911488, 234.6186332010996, 1023.8234550653835, 256.9814717293945, 273.9741015735885, 533.2306803306884, 271.04805910227145, 923.9627953991218, 1729.2971257196725, 459.16935587924314, 659.2146299438335, 386.0994586401124, 311.8815590025038, 514.8353564231317, 388.1249582931448, 321.37710980179395, 323.9440452959255, 407.2657617900639, 331.7050634170263, 290.4781120605695, 288.80066693579954, 114.1269574865989, 459.3970621207228, 113.6266738629027, 64.16490890717185, 95.11543000316966, 253.44004146914597, 49.73457278982753, 65.99825597533021, 42.72643924993671, 37.62014760819728, 235.64965863076165, 160.273595341501, 104.33535271185877, 42.58376926820704, 40.78118850838393, 552.045637414332, 50.19248565815502, 45.289195265211525, 35.441537969032915, 32.62343475524438, 25.84217662280788, 44.94214643679469, 164.00845025192012, 173.1229671336882, 61.44328131562174, 78.16545267002999, 87.32475556651201, 32.24542658263114, 22.72915178905437, 749.3120113546797, 708.3848294193539, 710.3070487932373, 301.8782452480928, 133.36048729815673, 153.7201471045481, 150.76000375384623, 410.0558939459596, 108.69763664388469, 274.13795947935273, 150.71978725871514, 600.5374160739674, 87.44958017802631, 293.3931995703528, 222.84709873832034, 94.66186402239994, 310.4415226729303, 154.03397581949397, 813.6187210326987, 294.1171847745545, 189.0160214813692, 300.00953777856853, 494.80817512199275, 364.77473499048756, 2650.2233142158484, 246.5896891078761, 247.09330675552135, 323.08796102325744, 279.882279108398, 252.78621851662595, 645.9560482314699, 406.31192153111607, 196.467322450715, 445.9960694722687, 288.4550674404077, 386.67312428948037, 288.04327395598506, 292.14940223800903, 325.3569803221237, 273.1537815071943, 163.7049060109638, 54.067480381126025, 127.06599376129438, 42.86714248272113, 47.62385767509169, 65.99028708487208, 35.28122608592344, 111.72494010080976, 41.28005332717361, 31.002852173063445, 49.90959661609881, 23.37659295396638, 25.337481761105806, 32.807567131130845, 97.63138565000926, 38.40785879723791, 26.890033392602017, 22.941508272915538, 17.620289122613716, 36.48761035617564, 18.519132211481036, 57.18420513851522, 28.749523178836142, 19.240109197029916, 32.372286822275804, 42.46477999819919, 133.4457937223243, 25.365419827602555, 18.01503973485512, 11.77299964057919, 180.5105360683916, 408.75205240770856, 71.1609469819184, 433.9178739203015, 173.75769184755922, 200.64172002191987, 396.87799801598186, 78.70747162571334, 366.1314592808639, 172.33003630858622, 536.436904142503, 90.03376538650129, 234.9442845789999, 193.65622688013516, 320.290353724309, 363.238402692673, 228.80297209284748, 207.04110012702589, 347.14323472673465, 213.56722060815682, 215.90939407175222, 508.36087360298933, 109.10856770781366, 405.7940598364543, 321.76706930396836, 263.3692207699386, 199.14349755081008, 196.77875916736383, 235.95354351361806, 296.26962644141645, 1063.334337643505, 276.07652767998036, 289.1073298505144, 1727.2725250785825, 388.9962572884348, 360.1857383023479, 353.2824556299705, 405.27432017360803, 304.48048409483215, 293.34424067990403, 316.5536577361691, 330.69188347681546, 371.0470502352648, 241.78433055333292, 281.7673319702579, 247.54758666037273, 243.8762131800844, 87.46276254872988, 110.34787064183323, 54.43424967801353, 52.69385342087852, 48.55679496460274, 153.2688594648495, 92.323976166086, 54.238231272987626, 42.72181098992736, 50.545200424546366, 34.33124988821446, 30.629931612167947, 50.387163118142475, 45.970138472163015, 29.448849542104362, 43.65831327043487, 21.69351821239395, 46.72279234074876, 30.245299100244107, 16.86345621536543, 23.426777578759815, 36.20372757094839, 19.9262832259294, 16.99520316932044, 116.47655235884498, 54.38386130052752, 17.613562057092718, 68.51198683972557, 17.643631831715858, 58.23167650408622, 102.23578531682836, 110.26864734878075, 48.89677186707188, 34.43330335914523, 81.76710381718213, 349.1851158258701, 56.62299112478947, 75.0626222924255, 166.87456452030503, 231.60040601345392, 75.6363299204166, 165.07904639265186, 154.73806096949284, 108.40895290126032, 289.96621544119597, 81.73204383308214, 306.4933822035223, 208.90661123336758, 154.10092205311483, 117.58329980064869, 187.9827783069528, 103.72605622831603, 101.58369727554131, 1192.3724389861466, 82.41340777382355, 215.9007888948189, 73.77169351905468, 133.1670859550756, 237.04922771139888, 134.02972133178727, 132.91040468419817, 135.69693682551306, 136.07920098237784, 142.31920709773217, 175.7076694045602, 170.1842972156493, 144.88113249536218, 169.79911798910288, 195.7580419381652, 132.9565403822822, 156.73421880509144, 126.67968880059979, 123.77404193110866, 119.14297081199928, 119.48350844204064], \"Total\": [8711.0, 783.0, 743.0, 749.0, 653.0, 1191.0, 1512.0, 681.0, 1143.0, 1580.0, 621.0, 567.0, 394.0, 1526.0, 714.0, 462.0, 1067.0, 486.0, 465.0, 832.0, 658.0, 966.0, 384.0, 478.0, 631.0, 500.0, 450.0, 1180.0, 2017.0, 463.0, 143.01681452933695, 152.52358412304625, 143.58453525207747, 99.54331852412315, 96.28264829912601, 204.14996940665932, 96.0126298354952, 99.08509865509009, 203.6581527204987, 154.9106695838872, 71.05239735521963, 145.83397735716426, 67.81715193449409, 88.2512668779732, 62.463012175968665, 54.67574979237304, 235.74398127904007, 106.71747437072344, 123.57052343688069, 61.195509716763446, 56.00954724071218, 50.58764994822636, 50.02815721381299, 48.70770376910288, 124.9222630472381, 51.15412819732644, 213.9764031047344, 72.97622111218752, 55.80133354679433, 53.53491983422085, 542.1817100128138, 631.6944416147008, 302.960929974383, 144.91703431928931, 136.53995660249066, 219.22908948523164, 278.07454947228285, 201.2261987093445, 110.37882368724082, 1143.570584234263, 110.54013454970703, 171.16241593196847, 304.56931501119715, 282.5916119084352, 215.56410613444694, 405.3364801943235, 1526.621082078152, 288.22434335224676, 1180.8113490763956, 354.0062278818797, 259.09432726344, 1580.8946901933373, 224.09385119648977, 1574.845732802839, 464.9135331805233, 266.9127562205667, 442.96970636966444, 825.1846441607926, 571.9841115557816, 279.41792138274127, 329.0462042349797, 685.3906061219876, 3245.706318129452, 317.4564065875678, 1612.3999226511678, 572.8669997018202, 1234.20456385672, 414.31085826817764, 2272.83711809233, 810.0320477140796, 8711.073386783322, 1194.4275700561407, 968.6188942142089, 521.2659023303543, 928.8729416838273, 1909.1464938790052, 834.4475650053535, 852.4178238627508, 871.9466932572021, 805.3748040217891, 225.9596527981607, 486.44221307636326, 116.6610130398551, 653.1803060276326, 95.83683461298405, 64.49152570253023, 245.7952735777015, 83.33226472735844, 109.54148158254337, 56.38690246893889, 81.25748488379425, 66.5922792078161, 60.053837162360864, 62.596211304438654, 58.76554775821529, 52.86634153706343, 46.69805411785126, 51.97390023648848, 58.764124814746914, 42.1518331784105, 99.11339568398802, 43.52600182206282, 191.24255938058621, 37.57017980952497, 32.200578364703865, 53.8862132296915, 32.25573210004416, 45.47606193294512, 621.4621102192798, 31.338029740244632, 478.89088013032676, 261.9424808039942, 197.56321602331118, 681.7056841623204, 184.98149704601468, 406.43462071897227, 142.13158705898445, 422.4871902297133, 348.41666316923767, 235.57192391100463, 408.7285486347382, 130.5960851528516, 227.49905400032344, 176.30117973348084, 215.61973904195168, 309.6714549910815, 246.4270399141435, 454.5209149788181, 371.16150052720917, 270.6907204273937, 1512.8333417414133, 309.78601893328664, 356.65281338696934, 862.9475731633311, 360.42264391354996, 2017.973698082032, 8711.073386783322, 966.3624608869669, 2272.83711809233, 810.0320477140796, 588.2924436580062, 1909.1464938790052, 1067.1496779653044, 844.5236824710563, 1072.464265811457, 3245.706318129452, 1580.8946901933373, 832.869882889448, 1612.3999226511678, 115.51996667703536, 465.7389958583073, 115.35145341042595, 65.27509734634961, 97.05519443224772, 258.78752531681374, 50.806995921652145, 67.4907309027417, 43.70783656939063, 38.51302577256234, 241.42925228046363, 164.23367820631424, 106.93658300506709, 43.68265066257019, 41.87737772435587, 567.1015849445932, 51.58312015789697, 46.645742575341, 36.67113854226429, 33.7942960973484, 26.774595304931026, 46.600116577187165, 170.1907405940523, 179.86795960448066, 63.88069199567187, 81.45735421665611, 91.04501271164193, 33.64115113866989, 23.75050282468767, 783.0972077416346, 743.2891468150677, 749.8563420069472, 319.36677752766013, 139.99978683269967, 161.84009829229132, 158.7471488273442, 440.8843993460996, 114.12179972269432, 297.21228431541914, 161.34144062958032, 714.9578823274184, 93.04090155626524, 337.5802911256196, 253.42885372740096, 101.50152969201432, 386.6559763945779, 175.54027954462234, 1191.4617055967706, 373.9478999409443, 225.346567650732, 422.43682464804687, 818.8203457687363, 563.1943104413187, 8711.073386783322, 346.4120217122341, 355.62027641739854, 541.9828339528493, 444.6928688448295, 385.2344300969226, 2017.973698082032, 1034.4122348202318, 265.24629820097937, 2272.83711809233, 754.975656642808, 1909.1464938790052, 825.6172484099891, 1072.464265811457, 3245.706318129452, 959.4175676613943, 166.4203124234427, 55.18569525074352, 130.08267667792504, 43.90557100865514, 48.78039797215905, 67.72164926473495, 36.22445040021108, 115.01653113217729, 42.565251092791485, 32.07992237151398, 51.737606997032195, 24.249253783451554, 26.380161086671016, 34.247458823942935, 101.92205013457122, 40.282527246211515, 28.27531657441871, 24.189421547396574, 18.579914748525304, 38.55945384420562, 19.57603857422753, 60.74768345088346, 30.564969406300076, 20.464697573910215, 34.557916916201975, 45.36756639111779, 142.64290724524625, 27.22931635374817, 19.349421494030995, 12.685965919002012, 194.66692087544183, 450.7279675819679, 77.23125631666153, 500.25544652174483, 194.7446188655184, 226.42471051900543, 463.66898772831956, 86.99289555194721, 435.35696197356464, 198.57616109759687, 658.9505230819668, 100.36189564091926, 281.8797140054164, 229.78695287557386, 406.5899969293218, 474.1717470707311, 286.8639123731632, 260.89229081458524, 474.8630021728089, 276.8743297955833, 285.94429384043167, 832.869882889448, 132.2300012538168, 692.976725728762, 524.1151184009024, 420.19096992177566, 292.7131664634933, 289.3460945784781, 373.5140115839379, 515.9748886389491, 3245.706318129452, 473.89802146656905, 511.8816023219116, 8711.073386783322, 873.5054802359241, 825.6172484099891, 807.6333207179587, 1067.1496779653044, 673.2423765016921, 755.9519987483725, 966.3624608869669, 1234.20456385672, 1909.1464938790052, 437.87624884455863, 2272.83711809233, 1191.4617055967706, 1612.3999226511678, 88.78340269084579, 112.06303084521207, 55.37987843511685, 53.76920991530664, 49.5634703651135, 156.49275333539802, 94.27674629315783, 55.50533481754106, 43.74829058469014, 52.03228765171549, 35.360226369108304, 31.571804161217276, 52.01417177740122, 47.56922505162058, 30.497413343553024, 45.292425570732675, 22.741702736683102, 49.078929357220055, 31.77177977448106, 17.74800009939177, 24.665481026240965, 38.14033909964891, 21.00840128348317, 17.93890709239822, 122.95033730235829, 57.42417736718178, 18.62525974161706, 72.45408640350192, 18.70778718403282, 61.831575687978905, 108.95093918915225, 118.37483645533436, 52.14543382673787, 36.6545747519527, 88.66021341729716, 394.05569189443804, 61.48093002618573, 83.07043205485716, 198.29142598598932, 283.99517141518555, 84.95325452122782, 199.25700894124174, 188.5193977654447, 127.06977679857044, 384.37023481632013, 93.73174986291382, 462.38390643391995, 307.87828039607336, 244.43183973658734, 176.08861304535995, 377.3125270113835, 154.11660195842234, 157.0843650735079, 8711.073386783322, 112.13911201175328, 598.2738624218442, 95.16720552810989, 300.0083310598646, 1067.1496779653044, 340.4856092376951, 366.92139218912297, 405.23528714203167, 410.6812449764079, 492.22272660821454, 1034.4122348202318, 966.3624608869669, 677.5028031687808, 1512.8333417414133, 3245.706318129452, 518.3922108427531, 2272.83711809233, 480.02400250841015, 1191.4617055967706, 611.8075036034115, 1909.1464938790052], \"Category\": [\"Default\", \"Default\", \"Default\", \"Default\", \"Default\", \"Default\", \"Default\", \"Default\", \"Default\", \"Default\", \"Default\", \"Default\", \"Default\", \"Default\", \"Default\", \"Default\", \"Default\", \"Default\", \"Default\", \"Default\", \"Default\", \"Default\", \"Default\", \"Default\", \"Default\", \"Default\", \"Default\", \"Default\", \"Default\", \"Default\", \"Topic1\", \"Topic1\", \"Topic1\", \"Topic1\", \"Topic1\", \"Topic1\", \"Topic1\", \"Topic1\", \"Topic1\", \"Topic1\", \"Topic1\", \"Topic1\", \"Topic1\", \"Topic1\", \"Topic1\", \"Topic1\", \"Topic1\", \"Topic1\", \"Topic1\", \"Topic1\", \"Topic1\", \"Topic1\", \"Topic1\", \"Topic1\", \"Topic1\", \"Topic1\", \"Topic1\", \"Topic1\", \"Topic1\", \"Topic1\", \"Topic1\", \"Topic1\", \"Topic1\", \"Topic1\", \"Topic1\", \"Topic1\", \"Topic1\", \"Topic1\", \"Topic1\", \"Topic1\", \"Topic1\", \"Topic1\", \"Topic1\", \"Topic1\", \"Topic1\", \"Topic1\", \"Topic1\", \"Topic1\", \"Topic1\", \"Topic1\", \"Topic1\", \"Topic1\", \"Topic1\", \"Topic1\", \"Topic1\", \"Topic1\", \"Topic1\", \"Topic1\", \"Topic1\", \"Topic1\", \"Topic1\", \"Topic1\", \"Topic1\", \"Topic1\", \"Topic1\", \"Topic1\", \"Topic1\", \"Topic1\", \"Topic1\", \"Topic1\", \"Topic1\", \"Topic1\", \"Topic1\", \"Topic1\", \"Topic1\", \"Topic1\", \"Topic1\", \"Topic1\", \"Topic1\", \"Topic1\", \"Topic2\", \"Topic2\", \"Topic2\", \"Topic2\", \"Topic2\", \"Topic2\", \"Topic2\", \"Topic2\", \"Topic2\", \"Topic2\", \"Topic2\", \"Topic2\", \"Topic2\", \"Topic2\", \"Topic2\", \"Topic2\", \"Topic2\", \"Topic2\", \"Topic2\", \"Topic2\", \"Topic2\", \"Topic2\", \"Topic2\", \"Topic2\", \"Topic2\", \"Topic2\", \"Topic2\", \"Topic2\", \"Topic2\", \"Topic2\", \"Topic2\", \"Topic2\", \"Topic2\", \"Topic2\", \"Topic2\", \"Topic2\", \"Topic2\", \"Topic2\", \"Topic2\", \"Topic2\", \"Topic2\", \"Topic2\", \"Topic2\", \"Topic2\", \"Topic2\", \"Topic2\", \"Topic2\", \"Topic2\", \"Topic2\", \"Topic2\", \"Topic2\", \"Topic2\", \"Topic2\", \"Topic2\", \"Topic2\", \"Topic2\", \"Topic2\", \"Topic2\", \"Topic2\", \"Topic2\", \"Topic2\", \"Topic2\", \"Topic2\", \"Topic2\", \"Topic2\", \"Topic2\", \"Topic2\", \"Topic2\", \"Topic2\", \"Topic3\", \"Topic3\", \"Topic3\", \"Topic3\", \"Topic3\", \"Topic3\", \"Topic3\", \"Topic3\", \"Topic3\", \"Topic3\", \"Topic3\", \"Topic3\", \"Topic3\", \"Topic3\", \"Topic3\", \"Topic3\", \"Topic3\", \"Topic3\", \"Topic3\", \"Topic3\", \"Topic3\", \"Topic3\", \"Topic3\", \"Topic3\", \"Topic3\", \"Topic3\", \"Topic3\", \"Topic3\", \"Topic3\", \"Topic3\", \"Topic3\", \"Topic3\", \"Topic3\", \"Topic3\", \"Topic3\", \"Topic3\", \"Topic3\", \"Topic3\", \"Topic3\", \"Topic3\", \"Topic3\", \"Topic3\", \"Topic3\", \"Topic3\", \"Topic3\", \"Topic3\", \"Topic3\", \"Topic3\", \"Topic3\", \"Topic3\", \"Topic3\", \"Topic3\", \"Topic3\", \"Topic3\", \"Topic3\", \"Topic3\", \"Topic3\", \"Topic3\", \"Topic3\", \"Topic3\", \"Topic3\", \"Topic3\", \"Topic3\", \"Topic3\", \"Topic3\", \"Topic3\", \"Topic3\", \"Topic3\", \"Topic3\", \"Topic4\", \"Topic4\", \"Topic4\", \"Topic4\", \"Topic4\", \"Topic4\", \"Topic4\", \"Topic4\", \"Topic4\", \"Topic4\", \"Topic4\", \"Topic4\", \"Topic4\", \"Topic4\", \"Topic4\", \"Topic4\", \"Topic4\", \"Topic4\", \"Topic4\", \"Topic4\", \"Topic4\", \"Topic4\", \"Topic4\", \"Topic4\", \"Topic4\", \"Topic4\", \"Topic4\", \"Topic4\", \"Topic4\", \"Topic4\", \"Topic4\", \"Topic4\", \"Topic4\", \"Topic4\", \"Topic4\", \"Topic4\", \"Topic4\", \"Topic4\", \"Topic4\", \"Topic4\", \"Topic4\", \"Topic4\", \"Topic4\", \"Topic4\", \"Topic4\", \"Topic4\", \"Topic4\", \"Topic4\", \"Topic4\", \"Topic4\", \"Topic4\", \"Topic4\", \"Topic4\", \"Topic4\", \"Topic4\", \"Topic4\", \"Topic4\", \"Topic4\", \"Topic4\", \"Topic4\", \"Topic4\", \"Topic4\", \"Topic4\", \"Topic4\", \"Topic4\", \"Topic4\", \"Topic4\", \"Topic4\", \"Topic4\", \"Topic4\", \"Topic4\", \"Topic4\", \"Topic4\", \"Topic4\", \"Topic4\", \"Topic4\", \"Topic4\", \"Topic5\", \"Topic5\", \"Topic5\", \"Topic5\", \"Topic5\", \"Topic5\", \"Topic5\", \"Topic5\", \"Topic5\", \"Topic5\", \"Topic5\", \"Topic5\", \"Topic5\", \"Topic5\", \"Topic5\", \"Topic5\", \"Topic5\", \"Topic5\", \"Topic5\", \"Topic5\", \"Topic5\", \"Topic5\", \"Topic5\", \"Topic5\", \"Topic5\", \"Topic5\", \"Topic5\", \"Topic5\", \"Topic5\", \"Topic5\", \"Topic5\", \"Topic5\", \"Topic5\", \"Topic5\", \"Topic5\", \"Topic5\", \"Topic5\", \"Topic5\", \"Topic5\", \"Topic5\", \"Topic5\", \"Topic5\", \"Topic5\", \"Topic5\", \"Topic5\", \"Topic5\", \"Topic5\", \"Topic5\", \"Topic5\", \"Topic5\", \"Topic5\", \"Topic5\", \"Topic5\", \"Topic5\", \"Topic5\", \"Topic5\", \"Topic5\", \"Topic5\", \"Topic5\", \"Topic5\", \"Topic5\", \"Topic5\", \"Topic5\", \"Topic5\", \"Topic5\", \"Topic5\", \"Topic5\", \"Topic5\", \"Topic5\", \"Topic5\", \"Topic5\", \"Topic5\", \"Topic5\", \"Topic5\", \"Topic5\"], \"logprob\": [30.0, 29.0, 28.0, 27.0, 26.0, 25.0, 24.0, 23.0, 22.0, 21.0, 20.0, 19.0, 18.0, 17.0, 16.0, 15.0, 14.0, 13.0, 12.0, 11.0, 10.0, 9.0, 8.0, 7.0, 6.0, 5.0, 4.0, 3.0, 2.0, 1.0, -6.6467, -6.5835, -6.6441, -7.0133, -7.0467, -6.2954, -7.0507, -7.0196, -6.2992, -6.5732, -7.3532, -6.6343, -7.4, -7.1369, -7.4833, -7.6175, -6.1562, -6.9488, -6.8023, -7.5053, -7.5939, -7.6965, -7.7077, -7.7345, -6.7929, -7.6858, -6.2552, -7.3309, -7.5994, -7.6415, -5.3315, -5.181, -5.911, -6.6475, -6.7081, -6.2394, -6.0066, -6.3301, -6.9243, -4.6496, -6.9253, -6.5013, -5.9428, -6.0162, -6.2791, -5.6826, -4.4353, -6.0147, -4.7057, -5.8301, -6.1282, -4.5055, -6.268, -4.5477, -5.6323, -6.1164, -5.6817, -5.2292, -5.543, -6.1174, -5.9931, -5.5056, -4.4684, -6.0311, -4.977, -5.6657, -5.2798, -5.9046, -5.0107, -5.5567, -4.3498, -5.3832, -5.5116, -5.8031, -5.5648, -5.3543, -5.666, -5.7113, -5.7325, -5.7719, -5.8281, -5.064, -6.4928, -4.7712, -6.6906, -7.0911, -5.7534, -6.8362, -6.5629, -7.2277, -6.8637, -7.0629, -7.1672, -7.1261, -7.1895, -7.2976, -7.4217, -7.315, -7.1923, -7.5246, -6.67, -7.4934, -6.0134, -7.6427, -7.8008, -7.2874, -7.8008, -7.4582, -4.8434, -7.8317, -5.1085, -5.7098, -5.9915, -4.7656, -6.0589, -5.2833, -6.3251, -5.2626, -5.4595, -5.8438, -5.3178, -6.4232, -5.8935, -6.1369, -5.9555, -5.6228, -5.8401, -5.3118, -5.4967, -5.7853, -4.312, -5.6943, -5.6302, -4.9643, -5.641, -4.4146, -3.7878, -5.1138, -4.7522, -5.2872, -5.5006, -4.9994, -5.2819, -5.4707, -5.4627, -5.2338, -5.439, -5.5717, -5.5775, -6.4744, -5.0818, -6.4788, -7.0502, -6.6566, -5.6766, -7.305, -7.0221, -7.4569, -7.5842, -5.7493, -6.1348, -6.5641, -7.4602, -7.5035, -4.8981, -7.2958, -7.3986, -7.6438, -7.7267, -7.9597, -7.4063, -6.1118, -6.0577, -7.0936, -6.8529, -6.7421, -7.7383, -8.088, -4.5925, -4.6487, -4.646, -5.5017, -6.3186, -6.1766, -6.196, -5.1954, -6.5231, -5.5981, -6.1963, -4.8139, -6.7406, -5.5302, -5.8052, -6.6614, -5.4737, -6.1745, -4.5102, -5.5277, -5.9699, -5.5079, -5.0075, -5.3124, -3.3293, -5.704, -5.7019, -5.4338, -5.5773, -5.6791, -4.741, -5.2046, -5.9312, -5.1114, -5.5472, -5.2541, -5.5486, -5.5344, -5.4268, -5.6017, -6.0123, -7.1202, -6.2657, -7.3523, -7.2471, -6.9209, -7.5471, -6.3944, -7.39, -7.6763, -7.2002, -7.9587, -7.8781, -7.6197, -6.5292, -7.4621, -7.8187, -7.9775, -8.2414, -7.5134, -8.1916, -7.0641, -7.7518, -8.1534, -7.6331, -7.3617, -6.2167, -7.877, -8.2192, -8.6446, -5.9146, -5.0973, -6.8455, -5.0376, -5.9527, -5.8089, -5.1268, -6.7447, -5.2074, -5.961, -4.8255, -6.6102, -5.6511, -5.8443, -5.3412, -5.2153, -5.6775, -5.7775, -5.2607, -5.7465, -5.7355, -4.8792, -6.4181, -5.1046, -5.3366, -5.5369, -5.8164, -5.8283, -5.6468, -5.4191, -4.1412, -5.4897, -5.4436, -3.6561, -5.1468, -5.2238, -5.2431, -5.1058, -5.3918, -5.4291, -5.3529, -5.3092, -5.1941, -5.6224, -5.4693, -5.5988, -5.6137, -6.0118, -5.7794, -6.4861, -6.5186, -6.6003, -5.4509, -5.9578, -6.4897, -6.7284, -6.5602, -6.947, -7.0611, -6.5633, -6.6551, -7.1004, -6.7067, -7.406, -6.6388, -7.0737, -7.6579, -7.3292, -6.8939, -7.491, -7.6501, -5.7254, -6.487, -7.6144, -6.2561, -7.6127, -6.4186, -5.8558, -5.7801, -6.5933, -6.944, -6.0792, -4.6275, -6.4466, -6.1647, -5.3658, -5.038, -6.1571, -5.3766, -5.4413, -5.7972, -4.8133, -6.0796, -4.7579, -5.1412, -5.4455, -5.7159, -5.2467, -5.8413, -5.8622, -3.3994, -6.0713, -5.1082, -6.1821, -5.5915, -5.0148, -5.585, -5.5934, -5.5726, -5.5698, -5.525, -5.3142, -5.3462, -5.5071, -5.3484, -5.2062, -5.593, -5.4285, -5.6414, -5.6646, -5.7027, -5.6999], \"loglift\": [30.0, 29.0, 28.0, 27.0, 26.0, 25.0, 24.0, 23.0, 22.0, 21.0, 20.0, 19.0, 18.0, 17.0, 16.0, 15.0, 14.0, 13.0, 12.0, 11.0, 10.0, 9.0, 8.0, 7.0, 6.0, 5.0, 4.0, 3.0, 2.0, 1.0, 1.1905, 1.1894, 1.1892, 1.1863, 1.1863, 1.186, 1.185, 1.1847, 1.1845, 1.1842, 1.1836, 1.1835, 1.1834, 1.1831, 1.1823, 1.1813, 1.1813, 1.1812, 1.1812, 1.1808, 1.1808, 1.18, 1.1799, 1.1799, 1.1796, 1.1796, 1.1792, 1.1792, 1.179, 1.1784, 1.1731, 1.1708, 1.1756, 1.1765, 1.1755, 1.1707, 1.1657, 1.1657, 1.172, 1.1087, 1.1695, 1.1563, 1.1385, 1.14, 1.1479, 1.1129, 1.0341, 1.1218, 1.0205, 1.1008, 1.1148, 0.9289, 1.1202, 0.8906, 1.026, 1.0969, 1.025, 0.8554, 0.9081, 1.0501, 1.0109, 0.7646, 0.2467, 1.0088, 0.4378, 0.7839, 0.4022, 0.869, 0.0608, 0.5464, -0.622, 0.3316, 0.4128, 0.7409, 0.4015, -0.1085, 0.4075, 0.3408, 0.297, 0.337, 1.5517, 1.5491, 1.5481, 1.5472, 1.547, 1.5426, 1.5423, 1.5412, 1.541, 1.5403, 1.5389, 1.5388, 1.5377, 1.5374, 1.5372, 1.5349, 1.5348, 1.5345, 1.5344, 1.5343, 1.534, 1.5335, 1.5333, 1.5313, 1.5274, 1.5259, 1.5258, 1.5249, 1.5248, 1.5236, 1.5203, 1.5223, 1.5227, 1.5101, 1.521, 1.5095, 1.5184, 1.4915, 1.4873, 1.4944, 1.4694, 1.505, 1.4795, 1.4911, 1.4712, 1.4419, 1.4531, 1.3692, 1.3869, 1.4139, 1.1665, 1.3701, 1.2932, 1.0756, 1.272, 0.7758, -0.0599, 0.8128, 0.3192, 0.816, 0.9223, 0.2464, 0.5455, 0.5908, 0.3598, -0.5187, -0.0045, 0.5036, -0.1628, 1.5764, 1.5748, 1.5735, 1.5714, 1.5683, 1.5676, 1.5672, 1.5662, 1.5658, 1.5651, 1.5643, 1.5641, 1.5639, 1.563, 1.562, 1.5616, 1.5612, 1.559, 1.5544, 1.5533, 1.5531, 1.5523, 1.5515, 1.5503, 1.5496, 1.5473, 1.5468, 1.5462, 1.5446, 1.5444, 1.5404, 1.5343, 1.5322, 1.5399, 1.5371, 1.5369, 1.516, 1.5398, 1.5077, 1.5204, 1.4141, 1.5265, 1.4482, 1.4599, 1.5188, 1.369, 1.4578, 1.2071, 1.3484, 1.4127, 1.2463, 1.0848, 1.1542, 0.3986, 1.2486, 1.2244, 1.0712, 1.1255, 1.1672, 0.4494, 0.6541, 1.2884, -0.0399, 0.6264, -0.0083, 0.5355, 0.2881, -0.7116, 0.3322, 1.6734, 1.6693, 1.6663, 1.6659, 1.6658, 1.6639, 1.6634, 1.6608, 1.6591, 1.6557, 1.6538, 1.6532, 1.6495, 1.6469, 1.6468, 1.6422, 1.6396, 1.6368, 1.6368, 1.6346, 1.6343, 1.6294, 1.6286, 1.6281, 1.6245, 1.6237, 1.6232, 1.6189, 1.6184, 1.6151, 1.6143, 1.5921, 1.6079, 1.5475, 1.5758, 1.5689, 1.5343, 1.5897, 1.5166, 1.548, 1.4841, 1.5812, 1.5077, 1.5187, 1.4512, 1.4233, 1.4637, 1.4586, 1.3765, 1.4302, 1.4089, 1.1961, 1.4976, 1.1547, 1.2019, 1.2227, 1.3046, 1.3043, 1.2305, 1.135, 0.5739, 1.1495, 1.1185, 0.0718, 0.8809, 0.8603, 0.863, 0.7216, 0.8963, 0.7432, 0.5738, 0.3728, 0.0517, 1.0959, -0.3979, 0.1185, -0.199, 2.3022, 2.3017, 2.2999, 2.297, 2.2966, 2.2963, 2.2962, 2.2941, 2.2934, 2.2882, 2.2876, 2.2869, 2.2854, 2.283, 2.2822, 2.2804, 2.27, 2.268, 2.2679, 2.266, 2.2656, 2.265, 2.2643, 2.2631, 2.2631, 2.2628, 2.2613, 2.2612, 2.2586, 2.2572, 2.2535, 2.2462, 2.2528, 2.2546, 2.2362, 2.1963, 2.2348, 2.2158, 2.1447, 2.1132, 2.201, 2.129, 2.1197, 2.1583, 2.0353, 2.1802, 1.906, 1.9293, 1.8558, 1.9133, 1.6204, 1.9212, 1.8813, 0.3285, 2.0092, 1.2979, 2.0625, 1.505, 0.8127, 1.3848, 1.3017, 1.2231, 1.2126, 1.0763, 0.5444, 0.5805, 0.7747, 0.13, -0.4911, 0.9564, -0.3571, 0.985, 0.0527, 0.6811, -0.4541]}, \"token.table\": {\"Topic\": [2, 5, 1, 2, 3, 4, 5, 1, 3, 4, 1, 1, 2, 3, 4, 4, 4, 2, 4, 4, 1, 2, 1, 2, 3, 4, 5, 1, 2, 4, 5, 1, 2, 5, 5, 1, 2, 3, 5, 3, 5, 1, 2, 3, 4, 5, 2, 3, 5, 1, 1, 2, 3, 4, 5, 1, 5, 1, 2, 3, 4, 5, 1, 2, 3, 1, 2, 3, 4, 5, 2, 3, 4, 5, 1, 2, 3, 4, 5, 3, 1, 2, 3, 4, 5, 1, 3, 4, 5, 2, 1, 2, 3, 4, 5, 2, 1, 2, 3, 4, 5, 2, 1, 2, 3, 4, 5, 2, 3, 4, 1, 2, 3, 4, 5, 1, 5, 1, 2, 3, 4, 5, 1, 4, 5, 1, 2, 5, 3, 4, 5, 1, 2, 3, 4, 5, 1, 2, 3, 1, 2, 3, 4, 5, 1, 2, 3, 4, 5, 1, 5, 1, 2, 3, 4, 5, 1, 2, 3, 1, 2, 3, 4, 5, 1, 2, 3, 4, 5, 2, 3, 4, 5, 1, 2, 3, 4, 3, 4, 3, 1, 2, 3, 4, 5, 1, 2, 3, 4, 5, 1, 2, 3, 4, 5, 1, 2, 3, 4, 5, 1, 2, 3, 4, 5, 2, 3, 5, 1, 2, 4, 3, 4, 2, 3, 4, 5, 1, 2, 3, 4, 5, 5, 3, 4, 3, 5, 3, 4, 5, 3, 2, 1, 2, 3, 5, 1, 2, 4, 5, 1, 2, 3, 4, 5, 5, 1, 2, 4, 1, 1, 2, 4, 5, 2, 5, 2, 3, 4, 5, 3, 4, 5, 2, 3, 4, 5, 1, 2, 3, 4, 5, 2, 3, 4, 5, 3, 1, 2, 3, 4, 5, 3, 1, 2, 3, 4, 5, 3, 4, 1, 2, 3, 4, 5, 1, 2, 3, 4, 5, 2, 3, 4, 5, 1, 2, 3, 4, 5, 1, 2, 3, 4, 5, 4, 4, 1, 1, 2, 3, 4, 5, 1, 2, 4, 5, 1, 2, 3, 4, 5, 1, 2, 3, 4, 5, 1, 2, 3, 4, 5, 2, 3, 4, 5, 2, 1, 2, 3, 4, 5, 1, 2, 4, 1, 2, 4, 5, 1, 2, 4, 2, 3, 5, 4, 1, 2, 3, 4, 5, 1, 2, 3, 4, 5, 1, 2, 3, 4, 5, 1, 3, 4, 1, 2, 3, 4, 5, 1, 2, 3, 4, 5, 2, 3, 4, 5, 2, 5, 1, 2, 3, 4, 5, 2, 1, 2, 5, 1, 2, 3, 4, 5, 1, 1, 1, 1, 3, 4, 5, 1, 3, 5, 1, 5, 2, 1, 2, 3, 5, 4, 2, 3, 4, 5, 3, 4, 1, 2, 3, 4, 5, 1, 2, 3, 4, 5, 1, 2, 3, 4, 4, 3, 4, 1, 2, 4, 3, 4, 1, 2, 5, 2, 1, 2, 3, 4, 5, 2, 3, 4, 5, 1, 2, 3, 4, 5, 1, 2, 1, 2, 3, 4, 5, 1, 2, 3, 4, 5, 3, 5, 2, 4, 1, 2, 3, 4, 5, 1, 2, 3, 4, 5, 5, 1, 2, 3, 4, 5, 5, 5, 3, 5, 1, 3, 4, 5, 4, 2, 1, 2, 3, 4, 5, 2, 4, 5, 2, 3, 5, 1, 2, 3, 4, 5, 1, 2, 3, 4, 5, 3, 3, 5, 3, 4, 5, 1, 2, 3, 4, 5, 2, 1, 2, 3, 4, 1, 2, 3, 4, 5, 1, 2, 3, 4, 5, 1, 2, 3, 4, 5, 3, 1, 2, 3, 4, 5, 1, 2, 3, 4, 5, 2, 4, 5, 1, 3, 1, 2, 3, 4, 5, 1, 2, 3, 4, 5, 2, 4, 1, 2, 3, 4, 5, 2, 1, 2, 4, 1, 1, 3, 4, 2, 4, 1, 2, 3, 4, 5, 1, 2, 3, 4, 5, 1, 2, 3, 4, 5, 3, 5, 2, 2, 1, 4, 1, 2, 4, 3, 1, 2, 3, 4, 5, 1, 2, 3, 4, 5, 1, 2, 3, 4, 5, 1, 2, 3, 4, 5, 1, 2, 3, 4, 1, 3, 5, 1, 3, 4, 5, 1, 2, 3, 4, 5, 1, 2, 3, 4, 5, 3, 2, 3, 4, 5, 1, 2, 3, 4, 5, 1, 2, 3, 4, 5, 1, 2, 3, 4, 5, 2, 5, 1, 2, 3, 5, 1, 3, 3, 4, 5, 2, 3, 1, 2, 3, 4, 5, 2, 3, 4, 5, 3, 5, 1, 2, 3, 4, 2, 1, 2, 3, 4, 5, 1, 2, 4, 5, 5, 5, 5, 2, 1, 2, 1, 2, 3, 4, 5, 1, 2, 3, 4, 5, 1, 2, 3, 4, 5, 2, 4, 3, 4, 1, 2, 4, 3, 1, 2, 3, 4, 5, 2, 3, 4, 5, 1, 2, 3, 4, 5, 1, 2, 3, 4, 5, 1, 1, 3, 5, 1, 2, 4, 5, 1, 2, 3, 4, 5, 3, 5, 1, 3, 4, 1, 2, 3, 4, 5, 1, 2, 3, 4, 5, 1, 2, 3, 4, 5, 1, 2, 3, 4, 5, 1, 3, 1, 2, 3, 4, 5, 1, 4, 1, 2, 3, 4, 5, 3, 4, 5, 1, 2, 4, 2, 3, 5, 1, 1, 2, 3, 4, 5, 1, 2, 3, 4, 5, 1, 2, 3, 5, 1, 2, 3, 4, 5, 2, 1, 2, 3, 4, 5, 1, 5, 1, 2, 3, 4, 5, 2, 3, 4, 2, 3, 4, 5, 1, 2, 3, 4, 5, 1, 1, 4, 1, 2, 3, 4, 5, 1, 2, 3, 4, 5, 2, 3, 4, 5, 1, 2, 1, 3, 4, 5, 2, 1, 2, 3, 5, 2, 3, 5, 2, 3, 4, 5, 1, 2, 3, 4, 5, 1, 2, 3, 4, 5, 1, 2, 3, 4, 5, 1, 2, 3, 4, 5, 5, 1, 1, 2, 3, 4, 5, 1, 2, 3, 4, 5, 1, 2, 3, 4, 5, 1, 2, 3, 4, 5, 2, 3, 4, 5, 2, 4, 1, 2, 3, 4, 5, 1, 2, 3, 5, 3, 5, 3, 4, 2, 4, 3, 5, 4, 1, 2, 3, 4, 5, 1, 2, 4, 5, 1, 3, 4, 5, 1, 2, 4, 5, 1, 2, 4, 5, 1, 2, 3, 4, 5, 1, 3, 3, 4, 1, 2, 3, 4, 5, 1, 2, 3, 4, 5, 1, 2, 5, 1, 2, 3, 4, 5, 1, 2, 3, 4, 5, 3, 1, 2, 3, 4, 5, 1, 3, 4, 5, 1, 2, 1, 1, 2, 3, 4, 5, 1, 2, 3, 4, 5, 2, 5, 1, 2, 1, 2, 3, 4, 5, 3, 5, 5, 3, 4, 5], \"Freq\": [0.031474472223403584, 0.9442341667021076, 0.1934735657419548, 0.06360774764119062, 0.1616696919213595, 0.08481033018825415, 0.49826068985599314, 0.9841184438358641, 0.008483779688240208, 0.004241889844120104, 0.9900108292641673, 0.0613279907583437, 0.0804929878703261, 0.0613279907583437, 0.7934308804360716, 0.9663365029688189, 0.9661982338811703, 0.01201776376258185, 0.9854566285317118, 0.9476818552344487, 0.9715863916606229, 0.022807192292502883, 0.0026772757352779395, 0.2998548823511292, 0.005354551470555879, 0.6318370735255937, 0.058900066176114665, 0.9679742153008225, 0.00904648799346563, 0.00904648799346563, 0.00904648799346563, 0.028360558945542125, 0.9358984452028901, 0.03403267073465055, 0.9578544007661233, 0.05068644806334278, 0.008447741343890463, 0.008447741343890463, 0.9292515478279508, 0.9788244777183729, 0.01030341555493024, 0.12536745193719895, 0.2098542130253113, 0.24255876570458057, 0.059958346578660365, 0.3624754588619013, 0.01917713453727648, 0.01917713453727648, 0.9396795923265474, 0.9866783026663211, 0.97357196689585, 0.0015830438486111383, 0.004749131545833415, 0.00949826309166683, 0.011081306940277967, 0.985470393503711, 0.9509003164732471, 0.010037288076475009, 0.005018644038237504, 0.14052203307065014, 0.015055932114712515, 0.8280762663091883, 0.918584372393488, 0.03859598203333983, 0.03859598203333983, 0.0063268214914384115, 0.052723512428653425, 0.008435761988584548, 0.7655454004640477, 0.16660629927454482, 0.042031285649324915, 0.010507821412331229, 0.17863296400963088, 0.777578784512511, 0.35497833293291925, 0.16556825230080188, 0.38146925330104753, 0.04900820268103736, 0.04900820268103736, 0.9764961490820717, 0.9423142314564709, 0.0032833248482803863, 0.01641662424140193, 0.029549923634523474, 0.0065666496965607725, 0.010580115025751884, 0.9733705823691734, 0.012343467530043867, 0.003526705008583962, 0.9836126065871977, 0.28783911091829123, 0.035979888864786404, 0.629648055133762, 0.03373114581073725, 0.0134924583242949, 0.9957529904729588, 0.05443603818959289, 0.002268168257899704, 0.9299489857388785, 0.006804504773699111, 0.006804504773699111, 0.974499873535869, 0.010550793152768466, 0.2637698288192116, 0.06752507617771818, 0.5824037820328193, 0.07385555206937926, 0.02955620480896089, 0.9359464856170948, 0.02955620480896089, 0.06749137140586982, 0.10902452304025126, 0.6567429602186564, 0.023362397794339556, 0.14277020874318616, 0.9872904686878428, 0.008092544825310187, 0.01560994961763164, 0.07284643154894765, 0.08585472289697402, 0.07024477327934238, 0.7544808981855292, 0.9448263456825917, 0.0070773509039894515, 0.04600278087593143, 0.9876659910578172, 0.006455333274887694, 0.006455333274887694, 0.97763599574698, 0.01545669558493249, 0.0038641738962331227, 0.09744110549599723, 0.12342540029492982, 0.06171270014746491, 0.038976442198398895, 0.678839701622114, 0.9869479680288236, 0.004910188895665788, 0.004910188895665788, 0.0034859735117157677, 0.09063531130460996, 0.10457920535147303, 0.7982879341829108, 0.0034859735117157677, 0.1420754028195641, 0.0317580312184908, 0.40783997985851345, 0.058501636455114636, 0.36103867069442175, 0.9029167560685883, 0.09366356390752992, 0.4202850072996933, 0.1465136977638373, 0.19925862895881874, 0.17414199505644662, 0.059442700235613995, 0.9846123260950594, 0.008004978260935443, 0.008004978260935443, 0.022489816091928107, 0.36358536015283777, 0.012181983716461058, 0.37951564655128683, 0.22208693390779005, 0.008352633482833141, 0.9647291672672279, 0.004176316741416571, 0.0062644751121248565, 0.016705266965666283, 0.9726741854017289, 0.9775120362210434, 0.012426000460436994, 0.008284000306957995, 0.03062878948720661, 0.9494924741034049, 0.007657197371801652, 0.007657197371801652, 0.9656628202949498, 0.02145917378433222, 0.9841164409150152, 0.04835184941025891, 0.9274763841422392, 0.021978113368299506, 0.004395622673659901, 0.9673857870155557, 0.023442921069183987, 0.2735007458071465, 0.10549314481132793, 0.564583682416181, 0.033210804848010644, 0.019729403051233527, 0.039458806102467055, 0.8799313760850154, 0.04340468671271376, 0.019729403051233527, 0.12717757556811432, 0.05450467524347757, 0.34882992155825643, 0.43603740194782054, 0.03391402015149715, 0.08881993261342361, 0.010150849441534125, 0.01522627416230119, 0.0025377123603835313, 0.8856616137738524, 0.1259150712554018, 0.015739383906925225, 0.8499267309739622, 0.9770236710886397, 0.006601511291139457, 0.009902266936709186, 0.014766326733875563, 0.9745775644357871, 0.010273959186315509, 0.05136979593157755, 0.9297933063615536, 0.010273959186315509, 0.18749334414924002, 0.05843948389067222, 0.28976244095791637, 0.1314888387540125, 0.3311570753804759, 0.9621661729914845, 0.015374837380936203, 0.9763021736894489, 0.9618166591783055, 0.03335780320849614, 0.9555712873097914, 0.021967156030110145, 0.010983578015055073, 0.9684005500756155, 0.975403818826493, 0.01145289603577067, 0.9658608990166598, 0.007635264023847113, 0.01145289603577067, 0.06116528948982554, 0.91503273076779, 0.019572892636744173, 0.9520000941587128, 0.18419909147104163, 0.010835240674767155, 0.007223493783178103, 0.772913834800057, 0.02528222824112336, 0.9818887714399395, 0.09333391338877958, 0.9008751640134377, 0.0040579962342947645, 0.9858215420328941, 0.07956740885976603, 0.03182696354390641, 0.06895842101179722, 0.8221965582175823, 0.01801628624144386, 0.9728794570379685, 0.002459480084488728, 0.20659632709705314, 0.787033627036393, 0.004918960168977456, 0.008694402362481245, 0.9737730645978995, 0.01738880472496249, 0.002156710986644499, 0.13802950314524792, 0.856214261697866, 0.004313421973288998, 0.018536815237110458, 0.018536815237110458, 0.9515565155050035, 0.006178938412370153, 0.006178938412370153, 0.0013335887742491552, 0.9468480297169002, 0.04400842955022212, 0.006667943871245776, 0.9838052709777372, 0.7482725330181835, 0.0017483003107901485, 0.10489801864740891, 0.11014291957977936, 0.03671430652659312, 0.9647182682817657, 0.004416479092356234, 0.07066366547769974, 0.030915353646493633, 0.8877122975636029, 0.004416479092356234, 0.041340385012539775, 0.9508288552884148, 0.01703687676401431, 0.05678958921338103, 0.11357917842676206, 0.14197397303345258, 0.6701171527178962, 0.13071072628741282, 0.15002026539805335, 0.17527120115812173, 0.451546145356517, 0.09209164806613175, 0.03505256655631317, 0.0210315399337879, 0.9323982703979303, 0.007010513311262634, 0.27392386889677567, 0.11574247981553902, 0.19290413302589837, 0.16011043041149564, 0.2565624969244448, 0.12635223153932976, 0.06317611576966488, 0.04632915156442091, 0.7307370724024571, 0.03369392841048794, 0.9705743032716588, 0.9484827947858716, 0.988964443494589, 0.03569805415569129, 0.16421104911617995, 0.15231169773094952, 0.6259058828631208, 0.023798702770460863, 0.0029369816898836797, 0.596207283046387, 0.005873963379767359, 0.3935555464444131, 0.9146790013844258, 0.06470960430444313, 0.012242357571110862, 0.0008744541122222044, 0.006995632897777635, 0.8420440374058588, 0.011287453584528939, 0.031604870036681026, 0.08804213795932572, 0.029347379319775237, 0.0010348084083089892, 0.474977059413826, 0.019661359757870794, 0.32803426543394953, 0.17591742941252816, 0.060500642245657404, 0.10587612392990046, 0.8243212505970822, 0.0075625802807071756, 0.9848236071156514, 0.9883835294023782, 0.04066682621377482, 0.008133365242754964, 0.008133365242754964, 0.9434703681595757, 0.027029730431667096, 0.9622584033673486, 0.005405946086333419, 0.764124269309973, 0.21000766341962834, 0.004427872421498188, 0.020874255701348602, 0.02110720116531875, 0.9638955198828896, 0.007035733721772916, 0.9610694900320541, 0.021021994764784006, 0.9670117591800643, 0.9632270208067312, 0.016871928846255328, 0.06748771538502131, 0.6945610708375111, 0.15747133589838305, 0.06467572724397876, 0.7353101169719298, 0.06286330015563131, 0.09080254466924521, 0.10477216692605218, 0.0063498282985486165, 0.0008393051957126288, 0.005035831174275773, 0.6831944293100798, 0.20814768853673193, 0.10407384426836597, 0.9874242108018995, 0.006857112575013191, 0.006857112575013191, 0.6330742113088786, 0.08824670824305582, 0.16881978968236763, 0.10551236855147977, 0.005755220102807988, 0.18142961527316098, 0.23046464642806935, 0.1716226090421793, 0.22392664227408157, 0.19450562358113654, 0.07543352630723292, 0.013311798760099925, 0.9074209488134783, 0.004437266253366642, 0.011263366459180633, 0.9799128819487151, 0.7192666908264054, 0.08930492469992282, 0.026550112748625704, 0.15205973665121994, 0.00965458645404571, 0.9943338993667981, 0.9866227505712202, 0.026218959338230034, 0.9438825361762813, 0.11762763814096751, 0.31078460182508255, 0.0978166675066993, 0.43707953961854246, 0.0371455699392529, 0.9851884328412134, 0.977438219787963, 0.9925874183802683, 0.08886774728456072, 0.8679416651458763, 0.008886774728456072, 0.029622582428186908, 0.04589221568177016, 0.009178443136354032, 0.9362011999081112, 0.03482853550015347, 0.9403704585041437, 0.9923784451185508, 0.008917495261556826, 0.18726740049269333, 0.06242246683089778, 0.7312346114476597, 0.9785144457208311, 0.0071428680187563725, 0.9500014464945976, 0.0071428680187563725, 0.02857147207502549, 0.019328300206411995, 0.9664150103205997, 0.4541927089182272, 0.18575163557341748, 0.14260932021443018, 0.14141092256556942, 0.0766974495270885, 0.005814236440679258, 0.1763651720339375, 0.22481714237293132, 0.5736713288136868, 0.019380788135597526, 0.015404790219501063, 0.035944510512169146, 0.056484230804837235, 0.8934778327310617, 0.9459271825746812, 0.024824658936811066, 0.9433370395988205, 0.9839063435407294, 0.009370536605149804, 0.009370536605149804, 0.08046634102229644, 0.9081201343944885, 0.9673664868305851, 0.007192315887216246, 0.02157694766164874, 0.9812617442205203, 0.006458457722742317, 0.8912671657384398, 0.0032292288613711586, 0.012916915445484635, 0.08718917925702128, 0.056395081934514334, 0.011279016386902867, 0.011279016386902867, 0.924879343726035, 0.004351857176771411, 0.06092600047479975, 0.05657414329802834, 0.8442602922936536, 0.034814857414171285, 0.01008945353046311, 0.9786769924549216, 0.8284602060076981, 0.0063000776122258415, 0.05670069851003257, 0.09765120298950054, 0.012600155224451683, 0.023985999529149215, 0.1273103051931766, 0.5959598344550151, 0.09963415189031212, 0.15314138160918345, 0.0414055320950814, 0.9523272381868724, 0.029199246727785955, 0.9635751420169365, 0.06851250799549459, 0.12103876412537377, 0.20097002345345077, 0.5526675644969896, 0.05481000639639567, 0.1782481661169611, 0.019098017798245832, 0.13368612458772083, 0.019098017798245832, 0.6493326051403583, 0.9476608531633406, 0.4563198205611837, 0.24674307039394322, 0.17654002107683803, 0.10323977840750763, 0.017550762329276298, 0.9750833971812791, 0.9615323059612357, 0.988284036564174, 0.00866915821547521, 0.0026907429074806673, 0.9525229892481563, 0.03632502925098901, 0.008072228722442003, 0.9793745762131958, 0.9845246885798574, 0.004325410058980552, 0.021627050294902764, 0.29845329406965815, 0.015138935206431935, 0.6617877390240245, 0.09416943523924665, 0.01177117940490583, 0.894609634772843, 0.008923549474413714, 0.008923549474413714, 0.9815904421855086, 0.06465696000127977, 0.02327650560046072, 0.8017463040158692, 0.06724323840133097, 0.04396673280087025, 0.007042373255973808, 0.0774661058157119, 0.0774661058157119, 0.021127119767921424, 0.8169152976929617, 0.9866791621205772, 0.9742216197520962, 0.018266655370351804, 0.9636246920811117, 0.005875760317567754, 0.023503041270271016, 0.06418006359653364, 0.0053483386330444695, 0.786205779057537, 0.013370846582611173, 0.13370846582611173, 0.9912681317536892, 0.020246683975462445, 0.9667791598283317, 0.010123341987731222, 0.005061670993865611, 0.01614017319831585, 0.8296049023934348, 0.04842051959494755, 0.006456069279326341, 0.10006907382955828, 0.3207444977895621, 0.2899459863420047, 0.19623051579443715, 0.12407400326015981, 0.06907666138952161, 0.5038369554955474, 0.030474009404972628, 0.14830684577086678, 0.02844240877797445, 0.2884872890337409, 0.9804657917308963, 0.0012006677399964722, 0.34819364459897695, 0.02281268705993297, 0.6099392119182079, 0.01680934835995061, 0.9177560327697583, 0.004934172219192248, 0.01726960276717287, 0.044407549972730234, 0.014802516657576745, 0.9845592084727304, 0.008136852962584549, 0.004068426481292274, 0.014816849463981381, 0.9779120646227711, 0.0013986837892389936, 0.0013986837892389936, 0.8406089573326352, 0.1356723275561824, 0.022378940627823897, 0.8296707164111342, 0.04862538997281372, 0.039508129352911155, 0.06382082433931802, 0.021273608113106007, 0.9905381317063605, 0.007654854186293358, 0.1556945011532932, 0.224383251662099, 0.0778472505766466, 0.4453320657987577, 0.09730906322080823, 0.9869728474009115, 0.5209670422187482, 0.4765243561526939, 0.0012345190573903988, 0.9844960109125843, 0.01565418233208484, 0.9549051222571753, 0.01565418233208484, 0.05168113167148097, 0.9302603700866575, 0.05500296944787473, 0.829444779273951, 0.013200712667489935, 0.09460510745034453, 0.008800475111659958, 0.014201614010445384, 0.9373065246893952, 0.007100807005222692, 0.01893548534726051, 0.021302421015668073, 0.27080163919195066, 0.26975405064575353, 0.20270838368913907, 0.19432767531956227, 0.06233151849872752, 0.9512159636896783, 0.029725498865302447, 0.9573033227891057, 0.9850517514907668, 0.9813977046302625, 0.014647726934780038, 0.9804640941419276, 0.028936929341686235, 0.9259817389339595, 0.9693093369875454, 0.4059881214499646, 0.28442105683500346, 0.13303565561637257, 0.152532260318772, 0.022937182002822857, 0.07139306386266621, 0.5303484744083776, 0.11728860491723735, 0.2566750629348238, 0.02379768795422207, 0.003497184666877948, 0.013988738667511791, 0.020983108001267684, 0.7553918880456367, 0.2063338953457989, 0.6615846264443076, 0.1117187759694873, 0.16234134633066125, 0.04364014686308098, 0.02094727049427887, 0.03731164830565369, 0.9327912076413424, 0.011480507170970367, 0.01722076075645555, 0.9894686763220784, 0.004898359783772665, 0.004898359783772665, 0.9879506598082533, 0.9511981860173746, 0.006299325735214401, 0.044095280146500805, 0.00766188404285508, 0.01532376808571016, 0.9564585246830758, 0.00893886471666426, 0.01149282606428262, 0.09167612054400505, 0.4578850561224901, 0.32012310200771493, 0.0817651885933018, 0.04856356655844592, 0.97106976609322, 0.9686833518902501, 0.0032182171159144523, 0.006436434231828905, 0.020918411253443937, 0.04152314995065205, 0.11846310427097792, 0.6045282125168461, 0.19418178947510814, 0.04152314995065205, 0.8375597006021105, 0.09400316154381624, 0.0474250184365199, 0.014396880596800684, 0.006775002633788558, 0.7101440921697691, 0.2763017969534255, 0.0012118499866378312, 0.00969479989310265, 0.0024236999732756624, 0.022078746885355282, 0.9714648629556324, 0.053184560628474126, 0.004091120048344164, 0.3109251236741564, 0.6300324874450012, 0.018702673526656746, 0.9725390233861508, 0.8387081372942583, 0.06212652868846358, 0.09762740222472847, 0.984012618261159, 0.9843724990993936, 0.005996936207009588, 0.10794485172617257, 0.005996936207009588, 0.8675567712807203, 0.013992851149689038, 0.003131196074123241, 0.9456212143852188, 0.04070554896360214, 0.012524784296492964, 0.04851889939112857, 0.9380320548951524, 0.9690587073190319, 0.019878127329621166, 0.0049695318324052915, 0.0049695318324052915, 0.9760891318519518, 0.014190450043961442, 0.1064283753297108, 0.0035476125109903606, 0.8336889400827346, 0.046118962642874683, 0.0046377943153221085, 0.9182832744337776, 0.03710235452257687, 0.03710235452257687, 0.9324772533538226, 0.9828955468959053, 0.9856942306476468, 0.9824517930550929, 0.02198959095170794, 0.9675420018751494, 0.06392110028915317, 0.05859434193172374, 0.6480889334872474, 0.12073985610173377, 0.1100863393868749, 0.18789725335727087, 0.0956567835273379, 0.023914195881834476, 0.67984642578358, 0.010248941092214775, 0.006890897038605675, 0.06890897038605676, 0.06890897038605676, 0.8406894387098923, 0.01378179407721135, 0.03271719289841263, 0.9487985940539662, 0.035366535945515164, 0.9548964705289095, 0.0797115274568236, 0.00996394093210295, 0.8967546838892655, 0.9790488857699993, 0.027779541604188676, 0.24207886255078703, 0.25795288632460917, 0.3875907471441563, 0.08333862481256603, 0.025896251017847663, 0.038844376526771494, 0.919316911133592, 0.012948125508923831, 0.3011057652394379, 0.13136477012897044, 0.32324589503645534, 0.030996181715824488, 0.2140212547045024, 0.03793911549394165, 0.05463232631127597, 0.08346605408667163, 0.8134146361901089, 0.009105387718545995, 0.9856395269456716, 0.9890488209648227, 0.019225529616804807, 0.9612764808402404, 0.9814166279690753, 0.004673412514138453, 0.004673412514138453, 0.004673412514138453, 0.12832051316837673, 0.09624038487628254, 0.3676876242709256, 0.07156336311313317, 0.33560749597883144, 0.06506082452390254, 0.9271167494656111, 0.9819754436440371, 0.02593397728194927, 0.9336231821501737, 0.27900952560322195, 0.00648859361867958, 0.00648859361867958, 0.03893156171207748, 0.6748137363426763, 0.1399758410327431, 0.18326733825936467, 0.0014430499075540526, 0.5858782624669454, 0.08946909426835126, 0.16209253869245607, 0.1984830024074055, 0.30421050108711656, 0.19825340957639634, 0.13683732728145018, 0.19227412539177782, 0.0377008089003486, 0.7389358544468324, 0.011310242670104578, 0.0188504044501743, 0.9581542718185557, 0.03505442457872765, 0.07388505955587243, 0.8681494497815011, 0.03324827680014259, 0.0036942529777936215, 0.02216551786676173, 0.9263617253650642, 0.06939039141311343, 0.6478057855391378, 0.1371480717132409, 0.05398381546159482, 0.14298415987125115, 0.01604924243452819, 0.9218999834785264, 0.0639273711171241, 0.013458393919394546, 0.9784485501133692, 0.009059708797346012, 0.018119417594692024, 0.01060706949824567, 0.01060706949824567, 0.9758503938386017, 0.9900080202627124, 0.022017560035948843, 0.6176504999558281, 0.251463711989521, 0.08922905909305584, 0.019699922137427914, 0.4246743672716612, 0.18770137779962925, 0.15133423585095107, 0.18183570974339083, 0.05513727972864109, 0.0429918448025899, 0.010747961200647475, 0.9350726244563302, 0.010747961200647475, 0.024803711138239162, 0.28619666697968266, 0.03243562225769737, 0.6143688451163855, 0.04388348893688467, 0.9879152276790056, 0.017525135468068498, 0.008762567734034249, 0.9551198830097332, 0.017525135468068498, 0.008762567734034249, 0.9798710045855455, 0.013801000064585149, 0.005388489908460707, 0.8432986706741007, 0.018859714679612474, 0.0026942449542303533, 0.12662951284882662, 0.0440843571541357, 0.02204217857706785, 0.9257715002368497, 0.954643084571974, 0.0024604203210617883, 0.012302101605308943, 0.02952504385274146, 0.8625073109390248, 0.12526039785421522, 0.00715773702024087, 0.003578868510120435, 0.003578868510120435, 0.9876407768537396, 0.9928902448800635, 0.9840018121089448, 0.9756876527382263, 0.011066400598165138, 0.0018444000996941895, 0.0018444000996941895, 0.011066400598165138, 0.07082979147361347, 0.052080729024715784, 0.22082229106479492, 0.3916470822658627, 0.2645701034455562, 0.1057528752893901, 0.010071702408513343, 0.8661664071321475, 0.015107553612770015, 0.01701718528358052, 0.9699795611640896, 0.024552724787506627, 0.9575562667127584, 0.012276362393753314, 0.012276362393753314, 0.9627156273062517, 0.012037977596404346, 0.048151910385617384, 0.03611393278921304, 0.902848319730326, 0.010668743531007769, 0.10668743531007768, 0.874836969542637, 0.0023672178694012997, 0.71016536082039, 0.1941118652909066, 0.09232149690665069, 0.8431675398181808, 0.06452812804730976, 0.019358438414192925, 0.03656593922680886, 0.03871687682838585, 0.0014669087015590893, 0.953490656013408, 0.010268360910913625, 0.030805082732740876, 0.0029338174031181786, 0.21751482863995925, 0.1111742457493125, 0.3924934241236598, 0.10827404803411304, 0.17014493262503477, 0.27665898379147985, 0.143329353048598, 0.10666370459430549, 0.026665926148576373, 0.4433210222200822, 0.9886313375362409, 0.9894531600974766, 0.4510842992588975, 0.15502658494816524, 0.2519182005407685, 0.09473846857943431, 0.047369234289717156, 0.46762592171317224, 0.1792359302057119, 0.14884644722965695, 0.15132722135015123, 0.05333664359062708, 0.9067637084257942, 0.05932099027084635, 0.025423281544648436, 0.0028248090605164926, 0.005649618121032985, 0.05696698231278594, 0.039876887618950155, 0.8772915276169034, 0.022786792925114374, 0.011393396462557187, 0.002147125340357439, 0.9855305312240645, 0.002147125340357439, 0.008588501361429756, 0.036725123282882126, 0.9181280820720532, 0.024192481361110685, 0.11405026927380751, 0.1071381317420616, 0.6808455468769721, 0.07603351284920501, 0.020172329590703676, 0.1311201423395739, 0.005043082397675919, 0.8421947604118785, 0.0545634484517776, 0.9275786236802193, 0.04938459920740189, 0.9383073849406359, 0.048864636107541014, 0.9284280860432792, 0.9868423899282728, 0.00865651219235327, 0.9687880834560163, 0.07337225914933139, 0.6768756159361743, 0.10179574692790122, 0.03569461255913419, 0.11237192842690394, 0.0020557426414039787, 0.9929236957981217, 0.004111485282807957, 0.0020557426414039787, 0.9237201239336926, 0.0401617445188562, 0.017849664230602757, 0.013387248172952067, 0.20468084719913532, 0.768254138802234, 0.00841154166571789, 0.019626930553341745, 0.012734964125577855, 0.938142357250902, 0.04244988041859285, 0.00848997608371857, 0.2338256033945815, 0.014433679221887746, 0.7130237535612547, 0.03752756597690814, 0.0028867358443775493, 0.06198035644765776, 0.9359033823596321, 0.029434258789329648, 0.9615191204514352, 0.32728189537469415, 0.2543209632847942, 0.2845476351506099, 0.09276461365715853, 0.041691961194228556, 0.2758951641453648, 0.3800959128354596, 0.22261069038338446, 0.07696646210063825, 0.04499577784345005, 0.010457923207458537, 0.9778158198973732, 0.010457923207458537, 0.11375533888440748, 0.7518950448213275, 0.04439232736952487, 0.016647122763571828, 0.07491205243607321, 0.42340534903395655, 0.10678258069478083, 0.20239024015406135, 0.18873200308844984, 0.07946610656355783, 0.9544290521457831, 0.8489336451687061, 0.013755869250418848, 0.07926000853812765, 0.020961324572066814, 0.036682318001116924, 0.9509932041846608, 0.004638991239925175, 0.0185559649597007, 0.0185559649597007, 0.009128961791944222, 0.9859278735299759, 0.9794484292231913, 0.25735123192302406, 0.30210796790963695, 0.2722701439185617, 0.11375670396597441, 0.055013487983545, 0.4513028198983898, 0.18878556020884169, 0.06887026874571478, 0.26818892888037166, 0.02349691521912622, 0.04075068519614676, 0.9576411021094489, 0.018557622443007304, 0.9649963670363797, 0.38635658223159836, 0.12539643458393981, 0.10013228805842861, 0.32750960678802954, 0.06038747218292925, 0.01921883594074554, 0.9801606329780225, 0.9664294753312914, 0.006390072247350537, 0.006390072247350537, 0.9776810538446321], \"Term\": [\"accounting\", \"accounting\", \"action\", \"action\", \"action\", \"action\", \"action\", \"actor\", \"actor\", \"actor\", \"actress\", \"aid\", \"aid\", \"aid\", \"aid\", \"airbus\", \"aircraft\", \"airline\", \"airline\", \"airway\", \"album\", \"album\", \"analyst\", \"analyst\", \"analyst\", \"analyst\", \"analyst\", \"andy\", \"andy\", \"andy\", \"andy\", \"apple\", \"apple\", \"apple\", \"arbitration\", \"arrest\", \"arrest\", \"arrest\", \"arrest\", \"asylum\", \"asylum\", \"attack\", \"attack\", \"attack\", \"attack\", \"attack\", \"attorney\", \"attorney\", \"attorney\", \"aviator\", \"award\", \"award\", \"award\", \"award\", \"award\", \"bafta\", \"balco\", \"ban\", \"ban\", \"ban\", \"ban\", \"ban\", \"band\", \"band\", \"band\", \"bank\", \"bank\", \"bank\", \"bank\", \"bank\", \"bankruptcy\", \"bankruptcy\", \"bankruptcy\", \"bankruptcy\", \"bbc\", \"bbc\", \"bbc\", \"bbc\", \"bbc\", \"bblair\", \"beat\", \"beat\", \"beat\", \"beat\", \"beat\", \"blair\", \"blair\", \"blair\", \"blair\", \"boerse\", \"britain\", \"britain\", \"britain\", \"britain\", \"britain\", \"broadband\", \"brown\", \"brown\", \"brown\", \"brown\", \"brown\", \"browser\", \"business\", \"business\", \"business\", \"business\", \"business\", \"cabinet\", \"cabinet\", \"cabinet\", \"campaign\", \"campaign\", \"campaign\", \"campaign\", \"campaign\", \"captain\", \"captain\", \"case\", \"case\", \"case\", \"case\", \"case\", \"champion\", \"champion\", \"champion\", \"championship\", \"championship\", \"championship\", \"chancellor\", \"chancellor\", \"chancellor\", \"charge\", \"charge\", \"charge\", \"charge\", \"charge\", \"chart\", \"chart\", \"chart\", \"china\", \"china\", \"china\", \"china\", \"china\", \"claim\", \"claim\", \"claim\", \"claim\", \"claim\", \"coach\", \"coach\", \"come\", \"come\", \"come\", \"come\", \"come\", \"comedy\", \"comedy\", \"comedy\", \"company\", \"company\", \"company\", \"company\", \"company\", \"computer\", \"computer\", \"computer\", \"computer\", \"computer\", \"computing\", \"conservative\", \"conservative\", \"conservative\", \"console\", \"console\", \"console\", \"console\", \"constituency\", \"constituency\", \"constitution\", \"content\", \"content\", \"content\", \"content\", \"conviction\", \"cost\", \"cost\", \"cost\", \"cost\", \"cost\", \"council\", \"council\", \"council\", \"council\", \"council\", \"country\", \"country\", \"country\", \"country\", \"country\", \"court\", \"court\", \"court\", \"court\", \"court\", \"criminal\", \"criminal\", \"criminal\", \"cup\", \"cup\", \"cup\", \"currency\", \"currency\", \"debt\", \"debt\", \"debt\", \"debt\", \"decision\", \"decision\", \"decision\", \"decision\", \"decision\", \"defendant\", \"deficit\", \"deficit\", \"dem\", \"dem\", \"democrat\", \"democrat\", \"democrat\", \"democratic\", \"desktop\", \"device\", \"device\", \"device\", \"device\", \"digital\", \"digital\", \"digital\", \"disciplinary\", \"dollar\", \"dollar\", \"dollar\", \"dollar\", \"dollar\", \"doping\", \"download\", \"download\", \"download\", \"drama\", \"drug\", \"drug\", \"drug\", \"drug\", \"ebber\", \"ebber\", \"economic\", \"economic\", \"economic\", \"economic\", \"economist\", \"economist\", \"economist\", \"economy\", \"economy\", \"economy\", \"economy\", \"education\", \"education\", \"education\", \"education\", \"education\", \"election\", \"election\", \"election\", \"election\", \"electoral\", \"england\", \"england\", \"england\", \"england\", \"england\", \"environmental\", \"euro\", \"euro\", \"euro\", \"euro\", \"euro\", \"eurozone\", \"eurozone\", \"evidence\", \"evidence\", \"evidence\", \"evidence\", \"evidence\", \"expect\", \"expect\", \"expect\", \"expect\", \"expect\", \"export\", \"export\", \"export\", \"export\", \"face\", \"face\", \"face\", \"face\", \"face\", \"fall\", \"fall\", \"fall\", \"fall\", \"fall\", \"fare\", \"fed\", \"festival\", \"figure\", \"figure\", \"figure\", \"figure\", \"figure\", \"file\", \"file\", \"file\", \"file\", \"film\", \"film\", \"film\", \"film\", \"film\", \"final\", \"final\", \"final\", \"final\", \"final\", \"firm\", \"firm\", \"firm\", \"firm\", \"firm\", \"forecast\", \"forecast\", \"forecast\", \"forecast\", \"foster\", \"foxx\", \"fraud\", \"fraud\", \"fraud\", \"fraud\", \"gadget\", \"gadget\", \"gadget\", \"game\", \"game\", \"game\", \"game\", \"gaming\", \"gaming\", \"gaming\", \"gartner\", \"gazprom\", \"gazprom\", \"gdp\", \"general\", \"general\", \"general\", \"general\", \"general\", \"good\", \"good\", \"good\", \"good\", \"good\", \"government\", \"government\", \"government\", \"government\", \"government\", \"grand\", \"grand\", \"grand\", \"great\", \"great\", \"great\", \"great\", \"great\", \"group\", \"group\", \"group\", \"group\", \"group\", \"growth\", \"growth\", \"growth\", \"growth\", \"guilty\", \"guilty\", \"half\", \"half\", \"half\", \"half\", \"half\", \"handset\", \"harry\", \"hearing\", \"hearing\", \"high\", \"high\", \"high\", \"high\", \"high\", \"hip\", \"hodgson\", \"hop\", \"howard\", \"howard\", \"howard\", \"howard\", \"hunt\", \"hunt\", \"hunt\", \"iaaf\", \"iaaf\", \"ibm\", \"illegal\", \"illegal\", \"illegal\", \"illegal\", \"imf\", \"immigration\", \"immigration\", \"immigration\", \"immigration\", \"import\", \"import\", \"include\", \"include\", \"include\", \"include\", \"include\", \"increase\", \"increase\", \"increase\", \"increase\", \"increase\", \"india\", \"india\", \"india\", \"india\", \"indicator\", \"indonesia\", \"indonesia\", \"indoor\", \"indoor\", \"indoor\", \"inflation\", \"inflation\", \"injury\", \"injury\", \"injury\", \"intel\", \"internet\", \"internet\", \"internet\", \"internet\", \"internet\", \"investigation\", \"investigation\", \"investigation\", \"investigation\", \"investment\", \"investment\", \"investment\", \"investment\", \"investment\", \"ipod\", \"ipod\", \"ireland\", \"ireland\", \"ireland\", \"ireland\", \"ireland\", \"issue\", \"issue\", \"issue\", \"issue\", \"issue\", \"jail\", \"jail\", \"jet\", \"jet\", \"job\", \"job\", \"job\", \"job\", \"job\", \"judge\", \"judge\", \"judge\", \"judge\", \"judge\", \"jurisdiction\", \"just\", \"just\", \"just\", \"just\", \"just\", \"kenteris\", \"khodorkovsky\", \"kilroy\", \"kilroy\", \"labour\", \"labour\", \"labour\", \"labour\", \"lanka\", \"laptop\", \"law\", \"law\", \"law\", \"law\", \"law\", \"lawsuit\", \"lawsuit\", \"lawsuit\", \"lawyer\", \"lawyer\", \"lawyer\", \"leader\", \"leader\", \"leader\", \"leader\", \"leader\", \"legal\", \"legal\", \"legal\", \"legal\", \"legal\", \"letwin\", \"lib\", \"lib\", \"liberal\", \"liberal\", \"liberal\", \"lord\", \"lord\", \"lord\", \"lord\", \"lord\", \"mac\", \"machine\", \"machine\", \"machine\", \"machine\", \"mail\", \"mail\", \"mail\", \"mail\", \"mail\", \"make\", \"make\", \"make\", \"make\", \"make\", \"man\", \"man\", \"man\", \"man\", \"man\", \"manifesto\", \"market\", \"market\", \"market\", \"market\", \"market\", \"match\", \"match\", \"match\", \"match\", \"match\", \"microsoft\", \"microsoft\", \"microsoft\", \"milburn\", \"milburn\", \"minister\", \"minister\", \"minister\", \"minister\", \"minister\", \"minute\", \"minute\", \"minute\", \"minute\", \"minute\", \"mobile\", \"mobile\", \"month\", \"month\", \"month\", \"month\", \"month\", \"multimedia\", \"music\", \"music\", \"music\", \"musical\", \"muslim\", \"muslim\", \"muslim\", \"nasdaq\", \"nasdaq\", \"net\", \"net\", \"net\", \"net\", \"net\", \"network\", \"network\", \"network\", \"network\", \"network\", \"new\", \"new\", \"new\", \"new\", \"new\", \"nlabour\", \"nlabour\", \"nmicrosoft\", \"nokia\", \"nomination\", \"nomination\", \"nominee\", \"nshare\", \"nshare\", \"ntony\", \"number\", \"number\", \"number\", \"number\", \"number\", \"offer\", \"offer\", \"offer\", \"offer\", \"offer\", \"oil\", \"oil\", \"oil\", \"oil\", \"oil\", \"old\", \"old\", \"old\", \"old\", \"old\", \"online\", \"online\", \"online\", \"online\", \"oscar\", \"oscar\", \"oscar\", \"owen\", \"parliament\", \"parliament\", \"parliament\", \"party\", \"party\", \"party\", \"party\", \"party\", \"people\", \"people\", \"people\", \"people\", \"people\", \"peston\", \"phone\", \"phone\", \"phone\", \"phone\", \"plan\", \"plan\", \"plan\", \"plan\", \"plan\", \"play\", \"play\", \"play\", \"play\", \"play\", \"player\", \"player\", \"player\", \"player\", \"player\", \"plead\", \"plead\", \"police\", \"police\", \"police\", \"police\", \"politic\", \"politic\", \"political\", \"political\", \"political\", \"portable\", \"prescott\", \"price\", \"price\", \"price\", \"price\", \"price\", \"prime\", \"prime\", \"prime\", \"prime\", \"prison\", \"prison\", \"prize\", \"prize\", \"prize\", \"prize\", \"processor\", \"profit\", \"profit\", \"profit\", \"profit\", \"profit\", \"program\", \"program\", \"program\", \"program\", \"prosecute\", \"prosecution\", \"prosecutor\", \"provider\", \"psp\", \"psp\", \"public\", \"public\", \"public\", \"public\", \"public\", \"quarter\", \"quarter\", \"quarter\", \"quarter\", \"quarter\", \"rate\", \"rate\", \"rate\", \"rate\", \"rate\", \"recession\", \"recession\", \"reconstruction\", \"reconstruction\", \"recovery\", \"recovery\", \"recovery\", \"referendum\", \"report\", \"report\", \"report\", \"report\", \"report\", \"reserve\", \"reserve\", \"reserve\", \"reserve\", \"right\", \"right\", \"right\", \"right\", \"right\", \"rise\", \"rise\", \"rise\", \"rise\", \"rise\", \"robbie\", \"roddick\", \"rosneft\", \"rosneft\", \"rugby\", \"rugby\", \"rugby\", \"rugby\", \"rule\", \"rule\", \"rule\", \"rule\", \"rule\", \"ruling\", \"ruling\", \"runner\", \"rupee\", \"rupee\", \"russian\", \"russian\", \"russian\", \"russian\", \"russian\", \"sale\", \"sale\", \"sale\", \"sale\", \"sale\", \"say\", \"say\", \"say\", \"say\", \"say\", \"school\", \"school\", \"school\", \"school\", \"school\", \"score\", \"score\", \"search\", \"search\", \"search\", \"search\", \"search\", \"season\", \"season\", \"second\", \"second\", \"second\", \"second\", \"second\", \"secretary\", \"secretary\", \"secretary\", \"seed\", \"seed\", \"seed\", \"sentence\", \"sentence\", \"sentence\", \"sequel\", \"service\", \"service\", \"service\", \"service\", \"service\", \"set\", \"set\", \"set\", \"set\", \"set\", \"shadow\", \"shadow\", \"shadow\", \"shadow\", \"share\", \"share\", \"share\", \"share\", \"share\", \"silicon\", \"silk\", \"silk\", \"silk\", \"silk\", \"silk\", \"singer\", \"singer\", \"site\", \"site\", \"site\", \"site\", \"site\", \"slowdown\", \"slowdown\", \"slowdown\", \"software\", \"software\", \"software\", \"software\", \"song\", \"song\", \"song\", \"song\", \"song\", \"soul\", \"squad\", \"sri\", \"star\", \"star\", \"star\", \"star\", \"star\", \"state\", \"state\", \"state\", \"state\", \"state\", \"stock\", \"stock\", \"stock\", \"stock\", \"storage\", \"storage\", \"straw\", \"straw\", \"straw\", \"straw\", \"subscription\", \"sue\", \"sue\", \"sue\", \"sue\", \"suspect\", \"suspect\", \"suspect\", \"tax\", \"tax\", \"tax\", \"tax\", \"team\", \"team\", \"team\", \"team\", \"team\", \"technology\", \"technology\", \"technology\", \"technology\", \"technology\", \"tell\", \"tell\", \"tell\", \"tell\", \"tell\", \"test\", \"test\", \"test\", \"test\", \"test\", \"thanou\", \"theatre\", \"think\", \"think\", \"think\", \"think\", \"think\", \"time\", \"time\", \"time\", \"time\", \"time\", \"title\", \"title\", \"title\", \"title\", \"title\", \"tony\", \"tony\", \"tony\", \"tony\", \"tony\", \"tory\", \"tory\", \"tory\", \"tory\", \"tourism\", \"tourism\", \"trade\", \"trade\", \"trade\", \"trade\", \"trade\", \"trial\", \"trial\", \"trial\", \"trial\", \"tribunal\", \"tribunal\", \"turkey\", \"turkey\", \"tycoon\", \"tycoon\", \"ukip\", \"ukip\", \"upward\", \"use\", \"use\", \"use\", \"use\", \"use\", \"user\", \"user\", \"user\", \"user\", \"victory\", \"victory\", \"victory\", \"victory\", \"video\", \"video\", \"video\", \"video\", \"virus\", \"virus\", \"virus\", \"virus\", \"vote\", \"vote\", \"vote\", \"vote\", \"vote\", \"voter\", \"voter\", \"wage\", \"wage\", \"want\", \"want\", \"want\", \"want\", \"want\", \"way\", \"way\", \"way\", \"way\", \"way\", \"web\", \"web\", \"web\", \"website\", \"website\", \"website\", \"website\", \"website\", \"week\", \"week\", \"week\", \"week\", \"week\", \"westminster\", \"win\", \"win\", \"win\", \"win\", \"win\", \"winner\", \"winner\", \"winner\", \"winner\", \"wireless\", \"wireless\", \"woodward\", \"work\", \"work\", \"work\", \"work\", \"work\", \"world\", \"world\", \"world\", \"world\", \"world\", \"worldcom\", \"worldcom\", \"yahoo\", \"yahoo\", \"year\", \"year\", \"year\", \"year\", \"year\", \"yugansk\", \"yugansk\", \"yuganskneftegas\", \"yukos\", \"yukos\", \"yukos\"]}, \"R\": 30, \"lambda.step\": 0.01, \"plot.opts\": {\"xlab\": \"PC1\", \"ylab\": \"PC2\"}, \"topic.order\": [4, 3, 1, 5, 2]};\n",
       "\n",
       "function LDAvis_load_lib(url, callback){\n",
       "  var s = document.createElement('script');\n",
       "  s.src = url;\n",
       "  s.async = true;\n",
       "  s.onreadystatechange = s.onload = callback;\n",
       "  s.onerror = function(){console.warn(\"failed to load library \" + url);};\n",
       "  document.getElementsByTagName(\"head\")[0].appendChild(s);\n",
       "}\n",
       "\n",
       "if(typeof(LDAvis) !== \"undefined\"){\n",
       "   // already loaded: just create the visualization\n",
       "   !function(LDAvis){\n",
       "       new LDAvis(\"#\" + \"ldavis_el783230090833749446916829398\", ldavis_el783230090833749446916829398_data);\n",
       "   }(LDAvis);\n",
       "}else if(typeof define === \"function\" && define.amd){\n",
       "   // require.js is available: use it to load d3/LDAvis\n",
       "   require.config({paths: {d3: \"https://d3js.org/d3.v5\"}});\n",
       "   require([\"d3\"], function(d3){\n",
       "      window.d3 = d3;\n",
       "      LDAvis_load_lib(\"https://cdn.jsdelivr.net/gh/bmabey/pyLDAvis@3.3.1/pyLDAvis/js/ldavis.v3.0.0.js\", function(){\n",
       "        new LDAvis(\"#\" + \"ldavis_el783230090833749446916829398\", ldavis_el783230090833749446916829398_data);\n",
       "      });\n",
       "    });\n",
       "}else{\n",
       "    // require.js not available: dynamically load d3 & LDAvis\n",
       "    LDAvis_load_lib(\"https://d3js.org/d3.v5.js\", function(){\n",
       "         LDAvis_load_lib(\"https://cdn.jsdelivr.net/gh/bmabey/pyLDAvis@3.3.1/pyLDAvis/js/ldavis.v3.0.0.js\", function(){\n",
       "                 new LDAvis(\"#\" + \"ldavis_el783230090833749446916829398\", ldavis_el783230090833749446916829398_data);\n",
       "            })\n",
       "         });\n",
       "}\n",
       "</script>"
      ],
      "text/plain": [
       "PreparedData(topic_coordinates=                x           y  topics  cluster       Freq\n",
       "topic                                                    \n",
       "3      150.222153  -72.269554       1        1  30.188740\n",
       "2       51.163364 -159.968018       2        1  21.077793\n",
       "0      -73.144554   21.523815       3        1  20.422628\n",
       "4      -66.410133 -110.606438       4        1  18.455493\n",
       "1       54.417324   12.443444       5        1   9.855346, topic_info=            Term         Freq        Total Category  logprob  loglift\n",
       "3288         say  8711.000000  8711.000000  Default  30.0000  30.0000\n",
       "2678       party   783.000000   783.000000  Default  29.0000  29.0000\n",
       "2037      labour   743.000000   743.000000  Default  28.0000  28.0000\n",
       "1170    election   749.000000   749.000000  Default  27.0000  27.0000\n",
       "2311      mobile   653.000000   653.000000  Default  26.0000  26.0000\n",
       "...          ...          ...          ...      ...      ...      ...\n",
       "2183        make   156.734219  2272.837118   Topic5  -5.4285  -0.3571\n",
       "3576       state   126.679689   480.024003   Topic5  -5.6414   0.9850\n",
       "1574  government   123.774042  1191.461706   Topic5  -5.6646   0.0527\n",
       "1598       group   119.142971   611.807504   Topic5  -5.7027   0.6811\n",
       "2440         new   119.483508  1909.146494   Topic5  -5.6999  -0.4541\n",
       "\n",
       "[400 rows x 6 columns], token_table=      Topic      Freq             Term\n",
       "term                                  \n",
       "28        2  0.031474       accounting\n",
       "28        5  0.944234       accounting\n",
       "38        1  0.193474           action\n",
       "38        2  0.063608           action\n",
       "38        3  0.161670           action\n",
       "...     ...       ...              ...\n",
       "4200      5  0.980161          yugansk\n",
       "4201      5  0.966429  yuganskneftegas\n",
       "4202      3  0.006390            yukos\n",
       "4202      4  0.006390            yukos\n",
       "4202      5  0.977681            yukos\n",
       "\n",
       "[1084 rows x 3 columns], R=30, lambda_step=0.01, plot_opts={'xlab': 'PC1', 'ylab': 'PC2'}, topic_order=[4, 3, 1, 5, 2])"
      ]
     },
     "execution_count": 13,
     "metadata": {},
     "output_type": "execute_result"
    }
   ],
   "source": [
    "pyLDAvis.enable_notebook()\n",
    "panel = pyLDAvis.sklearn.prepare(lda_model, data_vectorized, vectorizer, mds='tsne')\n",
    "panel"
   ]
  },
  {
   "cell_type": "code",
   "execution_count": 14,
   "id": "b04f8640",
   "metadata": {},
   "outputs": [
    {
     "data": {
      "text/html": [
       "<div>\n",
       "<style scoped>\n",
       "    .dataframe tbody tr th:only-of-type {\n",
       "        vertical-align: middle;\n",
       "    }\n",
       "\n",
       "    .dataframe tbody tr th {\n",
       "        vertical-align: top;\n",
       "    }\n",
       "\n",
       "    .dataframe thead th {\n",
       "        text-align: right;\n",
       "    }\n",
       "</style>\n",
       "<table border=\"1\" class=\"dataframe\">\n",
       "  <thead>\n",
       "    <tr style=\"text-align: right;\">\n",
       "      <th></th>\n",
       "      <th>Word 0</th>\n",
       "      <th>Word 1</th>\n",
       "      <th>Word 2</th>\n",
       "      <th>Word 3</th>\n",
       "      <th>Word 4</th>\n",
       "      <th>Word 5</th>\n",
       "      <th>Word 6</th>\n",
       "      <th>Word 7</th>\n",
       "      <th>Word 8</th>\n",
       "      <th>Word 9</th>\n",
       "      <th>Word 10</th>\n",
       "      <th>Word 11</th>\n",
       "      <th>Word 12</th>\n",
       "      <th>Word 13</th>\n",
       "      <th>Word 14</th>\n",
       "    </tr>\n",
       "  </thead>\n",
       "  <tbody>\n",
       "    <tr>\n",
       "      <th>Topic 0</th>\n",
       "      <td>say</td>\n",
       "      <td>government</td>\n",
       "      <td>party</td>\n",
       "      <td>election</td>\n",
       "      <td>labour</td>\n",
       "      <td>people</td>\n",
       "      <td>minister</td>\n",
       "      <td>blair</td>\n",
       "      <td>plan</td>\n",
       "      <td>tory</td>\n",
       "      <td>make</td>\n",
       "      <td>brown</td>\n",
       "      <td>tell</td>\n",
       "      <td>new</td>\n",
       "      <td>public</td>\n",
       "    </tr>\n",
       "    <tr>\n",
       "      <th>Topic 1</th>\n",
       "      <td>say</td>\n",
       "      <td>court</td>\n",
       "      <td>law</td>\n",
       "      <td>case</td>\n",
       "      <td>company</td>\n",
       "      <td>legal</td>\n",
       "      <td>claim</td>\n",
       "      <td>charge</td>\n",
       "      <td>year</td>\n",
       "      <td>action</td>\n",
       "      <td>tell</td>\n",
       "      <td>firm</td>\n",
       "      <td>use</td>\n",
       "      <td>trial</td>\n",
       "      <td>ban</td>\n",
       "    </tr>\n",
       "    <tr>\n",
       "      <th>Topic 2</th>\n",
       "      <td>say</td>\n",
       "      <td>use</td>\n",
       "      <td>people</td>\n",
       "      <td>make</td>\n",
       "      <td>technology</td>\n",
       "      <td>mobile</td>\n",
       "      <td>phone</td>\n",
       "      <td>service</td>\n",
       "      <td>new</td>\n",
       "      <td>user</td>\n",
       "      <td>computer</td>\n",
       "      <td>firm</td>\n",
       "      <td>year</td>\n",
       "      <td>network</td>\n",
       "      <td>company</td>\n",
       "    </tr>\n",
       "    <tr>\n",
       "      <th>Topic 3</th>\n",
       "      <td>say</td>\n",
       "      <td>win</td>\n",
       "      <td>year</td>\n",
       "      <td>game</td>\n",
       "      <td>good</td>\n",
       "      <td>film</td>\n",
       "      <td>play</td>\n",
       "      <td>time</td>\n",
       "      <td>make</td>\n",
       "      <td>award</td>\n",
       "      <td>player</td>\n",
       "      <td>world</td>\n",
       "      <td>star</td>\n",
       "      <td>new</td>\n",
       "      <td>come</td>\n",
       "    </tr>\n",
       "    <tr>\n",
       "      <th>Topic 4</th>\n",
       "      <td>say</td>\n",
       "      <td>year</td>\n",
       "      <td>rise</td>\n",
       "      <td>market</td>\n",
       "      <td>price</td>\n",
       "      <td>growth</td>\n",
       "      <td>sale</td>\n",
       "      <td>company</td>\n",
       "      <td>economy</td>\n",
       "      <td>month</td>\n",
       "      <td>new</td>\n",
       "      <td>rate</td>\n",
       "      <td>bank</td>\n",
       "      <td>country</td>\n",
       "      <td>high</td>\n",
       "    </tr>\n",
       "  </tbody>\n",
       "</table>\n",
       "</div>"
      ],
      "text/plain": [
       "        Word 0      Word 1  Word 2    Word 3      Word 4  Word 5    Word 6  \\\n",
       "Topic 0    say  government   party  election      labour  people  minister   \n",
       "Topic 1    say       court     law      case     company   legal     claim   \n",
       "Topic 2    say         use  people      make  technology  mobile     phone   \n",
       "Topic 3    say         win    year      game        good    film      play   \n",
       "Topic 4    say        year    rise    market       price  growth      sale   \n",
       "\n",
       "          Word 7   Word 8  Word 9   Word 10 Word 11 Word 12  Word 13  Word 14  \n",
       "Topic 0    blair     plan    tory      make   brown    tell      new   public  \n",
       "Topic 1   charge     year  action      tell    firm     use    trial      ban  \n",
       "Topic 2  service      new    user  computer    firm    year  network  company  \n",
       "Topic 3     time     make   award    player   world    star      new     come  \n",
       "Topic 4  company  economy   month       new    rate    bank  country     high  "
      ]
     },
     "execution_count": 14,
     "metadata": {},
     "output_type": "execute_result"
    }
   ],
   "source": [
    "# Show top n keywords for each topic\n",
    "def show_topics(vectorizer=vectorizer, lda_model=lda_model, n_words=20):\n",
    "    keywords = np.array(vectorizer.get_feature_names())\n",
    "    topic_keywords = []\n",
    "    for topic_weights in lda_model.components_:\n",
    "        top_keyword_locs = (-topic_weights).argsort()[:n_words]\n",
    "        topic_keywords.append(keywords.take(top_keyword_locs))\n",
    "    return topic_keywords\n",
    "\n",
    "topic_keywords = show_topics(vectorizer=vectorizer, lda_model=lda_model, n_words=15)        \n",
    "\n",
    "# Topic - Keywords Dataframe\n",
    "df_topic_keywords = pd.DataFrame(topic_keywords)\n",
    "df_topic_keywords.columns = ['Word '+str(i) for i in range(df_topic_keywords.shape[1])]\n",
    "df_topic_keywords.index = ['Topic '+str(i) for i in range(df_topic_keywords.shape[0])]\n",
    "df_topic_keywords"
   ]
  },
  {
   "cell_type": "code",
   "execution_count": 20,
   "id": "be1014db",
   "metadata": {},
   "outputs": [
    {
     "name": "stdout",
     "output_type": "stream",
     "text": [
      "[[0.01446302 0.01343473 0.01342541 0.94528934 0.0133875 ]]\n"
     ]
    }
   ],
   "source": [
    "def predict_topic(text, nlp=nlp):\n",
    "    global sent_to_words\n",
    "    global lemmatization\n",
    "\n",
    "    # Step 1: Clean with simple_preprocess\n",
    "    mytext_2 = list(sent_to_words(text))\n",
    "\n",
    "    # Step 2: Lemmatize\n",
    "    mytext_3 = lemmatization(mytext_2, allowed_postags=['NOUN', 'ADJ', 'VERB', 'ADV'])\n",
    "\n",
    "    # Step 3: Vectorize transform\n",
    "    mytext_4 = vectorizer.transform(mytext_3)\n",
    "\n",
    "    # Step 4: LDA Transform\n",
    "    topic_probability_scores = lda_model.transform(mytext_4)\n",
    "    topic = df_topic_keywords.iloc[np.argmax(topic_probability_scores), :].values.tolist()\n",
    "    return topic, topic_probability_scores\n",
    "\n",
    "# Predict the topic\n",
    "mytext = [\"b'Oscars race enters final furlong\\n\\nThe race for the Oscars entered its final stages as the deadline for voters to choose their winners passed.\\n\\nThe 5,808\"]\n",
    "topic, prob_scores = predict_topic(text = mytext)\n",
    "print(prob_scores)"
   ]
  },
  {
   "cell_type": "code",
   "execution_count": 21,
   "id": "2d7d5262",
   "metadata": {},
   "outputs": [
    {
     "data": {
      "text/plain": [
       "{1: 'politics', 2: 'crime', 3: 'tech', 4: 'entertaiment', 5: 'business'}"
      ]
     },
     "execution_count": 21,
     "metadata": {},
     "output_type": "execute_result"
    }
   ],
   "source": [
    "{1: 'politics', 2: 'crime', 3: 'tech', 4: 'entertaiment', 5: 'business'}"
   ]
  },
  {
   "cell_type": "code",
   "execution_count": 22,
   "id": "f03f986b",
   "metadata": {},
   "outputs": [],
   "source": [
    "def compute_coherence_values(dictionary, corpus, texts, limit, start=2, step=3):\n",
    "    \"\"\"\n",
    "    Compute c_v coherence for various number of topics\n",
    "\n",
    "    Parameters:\n",
    "    ----------\n",
    "    dictionary : Gensim dictionary\n",
    "    corpus : Gensim corpus\n",
    "    texts : List of input texts\n",
    "    limit : Max num of topics\n",
    "\n",
    "    Returns:\n",
    "    -------\n",
    "    model_list : List of LDA topic models\n",
    "    coherence_values : Coherence values corresponding to the LDA model with respective number of topics\n",
    "    \"\"\"\n",
    "    coherence_values = []\n",
    "    model_list = []\n",
    "    for num_topics in range(start, limit, step):\n",
    "        model = gensim.models.wrappers.LdaMallet(mallet_path, corpus=corpus, num_topics=num_topics, id2word=id2word)\n",
    "        model_list.append(model)\n",
    "        coherencemodel = CoherenceModel(model=model, texts=texts, dictionary=dictionary, coherence='c_v')\n",
    "        coherence_values.append(coherencemodel.get_coherence())\n",
    "\n",
    "    return model_list, coherence_values"
   ]
  },
  {
   "cell_type": "code",
   "execution_count": null,
   "id": "6ad1d7b7",
   "metadata": {},
   "outputs": [],
   "source": [
    "model_list, coherence_values = compute_coherence_values(dictionary=id2word, corpus=corpus, texts=data_lemmatized, start=2, limit=40, step=6)"
   ]
  }
 ],
 "metadata": {
  "kernelspec": {
   "display_name": "Python 3 (ipykernel)",
   "language": "python",
   "name": "python3"
  },
  "language_info": {
   "codemirror_mode": {
    "name": "ipython",
    "version": 3
   },
   "file_extension": ".py",
   "mimetype": "text/x-python",
   "name": "python",
   "nbconvert_exporter": "python",
   "pygments_lexer": "ipython3",
   "version": "3.9.6"
  }
 },
 "nbformat": 4,
 "nbformat_minor": 5
}
